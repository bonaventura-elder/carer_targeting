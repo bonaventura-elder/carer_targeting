{
 "cells": [
  {
   "cell_type": "code",
   "execution_count": 1,
   "metadata": {
    "collapsed": true
   },
   "outputs": [],
   "source": [
    "import pandas as pd\n",
    "import numpy as np\n",
    "\n",
    "import os\n",
    "from datetime import timedelta, date, datetime\n",
    "from sqlalchemy import create_engine\n",
    "from sqlalchemy.types import NVARCHAR, DATE, FLOAT, VARCHAR, DATETIME\n",
    "\n",
    "import config\n",
    "\n",
    "data_dir = \"data\"\n",
    "\n",
    "engine = create_engine(\n",
    "    f\"mysql+pymysql://{config.sql_credentials['user']}:{config.sql_credentials['password']}@{config.sql_credentials['host']}:{config.sql_credentials['port']}/{config.sql_credentials['db']}\",\n",
    "    pool_pre_ping=True)\n",
    "\n",
    "conn = engine.connect()\n",
    "\n",
    "\n"
   ]
  },
  {
   "cell_type": "markdown",
   "source": [
    "## Creating SMS table"
   ],
   "metadata": {
    "collapsed": false,
    "pycharm": {
     "name": "#%% md\n"
    }
   }
  },
  {
   "cell_type": "code",
   "execution_count": 41,
   "outputs": [
    {
     "name": "stdout",
     "output_type": "stream",
     "text": [
      "carer_df_1909_2001 is being appended\n",
      "carer_df_2001_2002 is being appended\n",
      "carer_df_2002_2006 is being appended\n",
      "carer_df_2006_2101 is being appended\n",
      "carer_df_2101_2103 is being appended\n",
      "carer_df_2103_2108 is being appended\n",
      "(1232843, 4)\n",
      "(1174932, 4)\n"
     ]
    }
   ],
   "source": [
    "# import csvs\n",
    "\n",
    "data = pd.DataFrame()\n",
    "\n",
    "df_names = ['carer_df_1909_2001',\n",
    "            'carer_df_2001_2002',\n",
    "            'carer_df_2002_2006',\n",
    "            'carer_df_2006_2101',\n",
    "            'carer_df_2101_2103',\n",
    "            'carer_df_2103_2108']\n",
    "\n",
    "for f in df_names:\n",
    "\n",
    "    filename = f'../data/bulk_messages/output_files/{f}.csv'\n",
    "    if os.path.isfile(filename):\n",
    "        print(f'{f} is being appended')\n",
    "\n",
    "        carer_df = pd.read_csv(filename, parse_dates=['sent_at'])\n",
    "        data = data.append(carer_df)\n",
    "\n",
    "print(data.shape)\n",
    "data.drop_duplicates(subset=['placement_ad_id','carer_id','sent_at'],inplace = True) # more than one number per carer?\n",
    "print(data.shape)\n"
   ],
   "metadata": {
    "collapsed": false,
    "pycharm": {
     "name": "#%%\n"
    }
   }
  },
  {
   "cell_type": "code",
   "execution_count": 42,
   "outputs": [
    {
     "name": "stdout",
     "output_type": "stream",
     "text": [
      "2019-09-17 13:12:00 2021-08-17 18:11:00\n"
     ]
    }
   ],
   "source": [
    "print(data.sent_at.min(),data.sent_at.max())"
   ],
   "metadata": {
    "collapsed": false,
    "pycharm": {
     "name": "#%%\n"
    }
   }
  },
  {
   "cell_type": "code",
   "execution_count": 43,
   "outputs": [
    {
     "name": "stdout",
     "output_type": "stream",
     "text": [
      "True\n"
     ]
    }
   ],
   "source": [
    "data['sms_type'] = 'customListSent'\n",
    "\n",
    "data['placement_ad_id_carer_id_sent_at'] = data['placement_ad_id'] + data['carer_id'] + data['sent_at'].apply(lambda x:str(x))\n",
    "print(data['placement_ad_id_carer_id_sent_at'].nunique()==data.shape[0])"
   ],
   "metadata": {
    "collapsed": false,
    "pycharm": {
     "name": "#%%\n"
    }
   }
  },
  {
   "cell_type": "code",
   "execution_count": 46,
   "outputs": [
    {
     "data": {
      "text/plain": "     carer_id                                    placement_ad_id  \\\n0  p258326082  plad_pl_s03iuz2MBGtu_UJ2Y-7f6e6167-c776-447a-a...   \n1   p91963657  plad_pl_s03iuz2MBGtu_UJ2Y-7f6e6167-c776-447a-a...   \n2   p54540830  plad_pl_s03iuz2MBGtu_UJ2Y-7f6e6167-c776-447a-a...   \n3   p73830676  plad_pl_s03iuz2MBGtu_UJ2Y-7f6e6167-c776-447a-a...   \n4   p96258457  plad_pl_s03iuz2MBGtu_UJ2Y-7f6e6167-c776-447a-a...   \n\n              sent_at        sms_type  \\\n0 2019-09-17 13:12:00  customListSent   \n1 2019-09-17 13:12:00  customListSent   \n2 2019-09-17 13:12:00  customListSent   \n3 2019-09-17 13:12:00  customListSent   \n4 2019-09-17 13:12:00  customListSent   \n\n                    placement_ad_id_carer_id_sent_at  \n0  plad_pl_s03iuz2MBGtu_UJ2Y-7f6e6167-c776-447a-a...  \n1  plad_pl_s03iuz2MBGtu_UJ2Y-7f6e6167-c776-447a-a...  \n2  plad_pl_s03iuz2MBGtu_UJ2Y-7f6e6167-c776-447a-a...  \n3  plad_pl_s03iuz2MBGtu_UJ2Y-7f6e6167-c776-447a-a...  \n4  plad_pl_s03iuz2MBGtu_UJ2Y-7f6e6167-c776-447a-a...  ",
      "text/html": "<div>\n<style scoped>\n    .dataframe tbody tr th:only-of-type {\n        vertical-align: middle;\n    }\n\n    .dataframe tbody tr th {\n        vertical-align: top;\n    }\n\n    .dataframe thead th {\n        text-align: right;\n    }\n</style>\n<table border=\"1\" class=\"dataframe\">\n  <thead>\n    <tr style=\"text-align: right;\">\n      <th></th>\n      <th>carer_id</th>\n      <th>placement_ad_id</th>\n      <th>sent_at</th>\n      <th>sms_type</th>\n      <th>placement_ad_id_carer_id_sent_at</th>\n    </tr>\n  </thead>\n  <tbody>\n    <tr>\n      <th>0</th>\n      <td>p258326082</td>\n      <td>plad_pl_s03iuz2MBGtu_UJ2Y-7f6e6167-c776-447a-a...</td>\n      <td>2019-09-17 13:12:00</td>\n      <td>customListSent</td>\n      <td>plad_pl_s03iuz2MBGtu_UJ2Y-7f6e6167-c776-447a-a...</td>\n    </tr>\n    <tr>\n      <th>1</th>\n      <td>p91963657</td>\n      <td>plad_pl_s03iuz2MBGtu_UJ2Y-7f6e6167-c776-447a-a...</td>\n      <td>2019-09-17 13:12:00</td>\n      <td>customListSent</td>\n      <td>plad_pl_s03iuz2MBGtu_UJ2Y-7f6e6167-c776-447a-a...</td>\n    </tr>\n    <tr>\n      <th>2</th>\n      <td>p54540830</td>\n      <td>plad_pl_s03iuz2MBGtu_UJ2Y-7f6e6167-c776-447a-a...</td>\n      <td>2019-09-17 13:12:00</td>\n      <td>customListSent</td>\n      <td>plad_pl_s03iuz2MBGtu_UJ2Y-7f6e6167-c776-447a-a...</td>\n    </tr>\n    <tr>\n      <th>3</th>\n      <td>p73830676</td>\n      <td>plad_pl_s03iuz2MBGtu_UJ2Y-7f6e6167-c776-447a-a...</td>\n      <td>2019-09-17 13:12:00</td>\n      <td>customListSent</td>\n      <td>plad_pl_s03iuz2MBGtu_UJ2Y-7f6e6167-c776-447a-a...</td>\n    </tr>\n    <tr>\n      <th>4</th>\n      <td>p96258457</td>\n      <td>plad_pl_s03iuz2MBGtu_UJ2Y-7f6e6167-c776-447a-a...</td>\n      <td>2019-09-17 13:12:00</td>\n      <td>customListSent</td>\n      <td>plad_pl_s03iuz2MBGtu_UJ2Y-7f6e6167-c776-447a-a...</td>\n    </tr>\n  </tbody>\n</table>\n</div>"
     },
     "execution_count": 46,
     "metadata": {},
     "output_type": "execute_result"
    }
   ],
   "source": [
    "\n",
    "dtypes = {\n",
    "    'sent_at': DATETIME,\n",
    "}\n",
    "\n",
    "data_columns = [\n",
    "                'carer_id',\n",
    "                'placement_ad_id',\n",
    "                'sent_at',\n",
    "                'sms_type',\n",
    "                'placement_ad_id_carer_id_sent_at'\n",
    "                ]\n",
    "\n",
    "data = data[data_columns]\n",
    "\n",
    "data.head()"
   ],
   "metadata": {
    "collapsed": false,
    "pycharm": {
     "name": "#%%\n"
    }
   }
  },
  {
   "cell_type": "code",
   "execution_count": 50,
   "outputs": [
    {
     "name": "stdout",
     "output_type": "stream",
     "text": [
      "Starting writing table at 2021-09-03 09:23:49.531803\n",
      "Completing writing table at 2021-09-03 09:28:53.306041\n"
     ]
    }
   ],
   "source": [
    "print(f'Starting writing table at {datetime.now()}')\n",
    "\n",
    "data[data_columns].sort_values(['sent_at','placement_ad_id']).to_sql(\n",
    "    'live_MO_CUSTOM_LIST_MATCH_REQUEST_CARER_SMS',\n",
    "    con=conn,\n",
    "    schema=\"elder_live\",\n",
    "    if_exists=\"replace\",\n",
    "    index=False,\n",
    "    dtype= dtypes\n",
    ")\n",
    "\n",
    "conn.execute(\n",
    "        'ALTER TABLE `elder_live`.`live_MO_CUSTOM_LIST_MATCH_REQUEST_CARER_SMS` CHANGE COLUMN `placement_ad_id` `placement_ad_id` VARCHAR(128) NOT NULL;')\n",
    "\n",
    "conn.execute(\n",
    "        'ALTER TABLE `elder_live`.`live_MO_CUSTOM_LIST_MATCH_REQUEST_CARER_SMS` CHANGE COLUMN `sent_at` `sent_at` DATETIME NOT NULL;')\n",
    "\n",
    "conn.execute(\n",
    "        'ALTER TABLE `elder_live`.`live_MO_CUSTOM_LIST_MATCH_REQUEST_CARER_SMS` CHANGE COLUMN `carer_id` `carer_id` VARCHAR(16) NOT NULL;')\n",
    "\n",
    "conn.execute(\n",
    "        'ALTER TABLE `elder_live`.`live_MO_CUSTOM_LIST_MATCH_REQUEST_CARER_SMS` CHANGE COLUMN `sms_type` `sms_type` VARCHAR(32) NOT NULL;')\n",
    "\n",
    "conn.execute(\n",
    "        'ALTER TABLE `elder_live`.`live_MO_CUSTOM_LIST_MATCH_REQUEST_CARER_SMS` ADD UNIQUE INDEX `placement_ad_id_sent_at_carer_id` (`placement_ad_id` ASC, `sent_at` ASC, `carer_id` ASC);')\n",
    "\n",
    "conn.execute(\n",
    "        'ALTER TABLE `elder_live`.`live_MO_CUSTOM_LIST_MATCH_REQUEST_CARER_SMS` ADD UNIQUE INDEX `sent_at_placement_ad_id_carer_id` (`sent_at` ASC,`placement_ad_id` ASC, `carer_id` ASC);')\n",
    "\n",
    "conn.execute(\n",
    "        'ALTER TABLE `elder_live`.`live_MO_CUSTOM_LIST_MATCH_REQUEST_CARER_SMS` ADD UNIQUE INDEX `carer_id_sent_at_placement_ad_id` (`carer_id` ASC, `sent_at` ASC,`placement_ad_id` ASC);')\n",
    "\n",
    "conn.execute(\n",
    "        'ALTER TABLE `elder_live`.`live_MO_CUSTOM_LIST_MATCH_REQUEST_CARER_SMS` ADD UNIQUE INDEX `sent_at_carer_id_placement_ad_id` (`sent_at` ASC,`carer_id` ASC,`placement_ad_id` ASC);')\n",
    "\n",
    "\n",
    "print(f'Completing writing table at {datetime.now()}')\n"
   ],
   "metadata": {
    "collapsed": false,
    "pycharm": {
     "name": "#%%\n"
    }
   }
  },
  {
   "cell_type": "markdown",
   "source": [
    "## Creating  placement views table"
   ],
   "metadata": {
    "collapsed": false
   }
  },
  {
   "cell_type": "code",
   "execution_count": 2,
   "outputs": [],
   "source": [
    "viewed_placements = pd.read_csv('../data/viewed_placements/viewed_placements.csv')"
   ],
   "metadata": {
    "collapsed": false,
    "pycharm": {
     "name": "#%%\n"
    }
   }
  },
  {
   "cell_type": "code",
   "execution_count": 10,
   "outputs": [],
   "source": [],
   "metadata": {
    "collapsed": false,
    "pycharm": {
     "name": "#%%\n"
    }
   }
  },
  {
   "cell_type": "code",
   "execution_count": 15,
   "outputs": [
    {
     "name": "stdout",
     "output_type": "stream",
     "text": [
      "MUOK\n"
     ]
    }
   ],
   "source": [
    "from random import choice\n",
    "from string import ascii_uppercase\n",
    "\n",
    "viewed_placements['unique_id'] = viewed_placements['placement_ad_id'] + \"_\" + viewed_placements['carer_id'] + \"_\" + \\\n",
    "                                 viewed_placements['date'].apply(lambda x:str(x) + '_' +\n",
    "                                  ''.join(choice(ascii_uppercase) for i in range(4)))\n",
    "\n",
    "print(viewed_placements.shape[0] == viewed_placements.unique_id.nunique())"
   ],
   "metadata": {
    "collapsed": false,
    "pycharm": {
     "name": "#%%\n"
    }
   }
  },
  {
   "cell_type": "code",
   "execution_count": 22,
   "outputs": [
    {
     "data": {
      "text/plain": "     carer_id                                    placement_ad_id        date  \\\n0   p23128636  plad_pl_s0dAkDzkUx6S_mPu4-7fc95ad1-0a4c-4407-8...  2019-08-01   \n1  p108185489  plad_pl_s0lKdHg1XPOA_BNv0-083e29c0-bb16-4730-b...  2019-08-01   \n2  p108185489  plad_pl_s0ZWbtH4t9ch_wol3-161e6f76-9db6-43af-b...  2019-08-01   \n3  p187627633  plad_pl_s03Ms15xHfIl_2NRK-80e9ad14-a5ca-4e4c-8...  2019-08-01   \n4  p226451629  plad_pl_s0jdbDkIxpyq_kmXh-1b365ec2-fe66-41ae-9...  2019-08-01   \n\n                                           unique_id  \n0  plad_pl_s0dAkDzkUx6S_mPu4-7fc95ad1-0a4c-4407-8...  \n1  plad_pl_s0lKdHg1XPOA_BNv0-083e29c0-bb16-4730-b...  \n2  plad_pl_s0ZWbtH4t9ch_wol3-161e6f76-9db6-43af-b...  \n3  plad_pl_s03Ms15xHfIl_2NRK-80e9ad14-a5ca-4e4c-8...  \n4  plad_pl_s0jdbDkIxpyq_kmXh-1b365ec2-fe66-41ae-9...  ",
      "text/html": "<div>\n<style scoped>\n    .dataframe tbody tr th:only-of-type {\n        vertical-align: middle;\n    }\n\n    .dataframe tbody tr th {\n        vertical-align: top;\n    }\n\n    .dataframe thead th {\n        text-align: right;\n    }\n</style>\n<table border=\"1\" class=\"dataframe\">\n  <thead>\n    <tr style=\"text-align: right;\">\n      <th></th>\n      <th>carer_id</th>\n      <th>placement_ad_id</th>\n      <th>date</th>\n      <th>unique_id</th>\n    </tr>\n  </thead>\n  <tbody>\n    <tr>\n      <th>0</th>\n      <td>p23128636</td>\n      <td>plad_pl_s0dAkDzkUx6S_mPu4-7fc95ad1-0a4c-4407-8...</td>\n      <td>2019-08-01</td>\n      <td>plad_pl_s0dAkDzkUx6S_mPu4-7fc95ad1-0a4c-4407-8...</td>\n    </tr>\n    <tr>\n      <th>1</th>\n      <td>p108185489</td>\n      <td>plad_pl_s0lKdHg1XPOA_BNv0-083e29c0-bb16-4730-b...</td>\n      <td>2019-08-01</td>\n      <td>plad_pl_s0lKdHg1XPOA_BNv0-083e29c0-bb16-4730-b...</td>\n    </tr>\n    <tr>\n      <th>2</th>\n      <td>p108185489</td>\n      <td>plad_pl_s0ZWbtH4t9ch_wol3-161e6f76-9db6-43af-b...</td>\n      <td>2019-08-01</td>\n      <td>plad_pl_s0ZWbtH4t9ch_wol3-161e6f76-9db6-43af-b...</td>\n    </tr>\n    <tr>\n      <th>3</th>\n      <td>p187627633</td>\n      <td>plad_pl_s03Ms15xHfIl_2NRK-80e9ad14-a5ca-4e4c-8...</td>\n      <td>2019-08-01</td>\n      <td>plad_pl_s03Ms15xHfIl_2NRK-80e9ad14-a5ca-4e4c-8...</td>\n    </tr>\n    <tr>\n      <th>4</th>\n      <td>p226451629</td>\n      <td>plad_pl_s0jdbDkIxpyq_kmXh-1b365ec2-fe66-41ae-9...</td>\n      <td>2019-08-01</td>\n      <td>plad_pl_s0jdbDkIxpyq_kmXh-1b365ec2-fe66-41ae-9...</td>\n    </tr>\n  </tbody>\n</table>\n</div>"
     },
     "execution_count": 22,
     "metadata": {},
     "output_type": "execute_result"
    }
   ],
   "source": [
    "dtypes = {\n",
    "    'date': DATE,\n",
    "}\n",
    "\n",
    "data_columns = [\n",
    "                'carer_id',\n",
    "                'placement_ad_id',\n",
    "                'date',\n",
    "                'unique_id'\n",
    "                ]\n",
    "\n",
    "viewed_placements = viewed_placements[data_columns]\n",
    "\n",
    "viewed_placements.head()"
   ],
   "metadata": {
    "collapsed": false,
    "pycharm": {
     "name": "#%%\n"
    }
   }
  },
  {
   "cell_type": "code",
   "execution_count": 31,
   "outputs": [
    {
     "name": "stdout",
     "output_type": "stream",
     "text": [
      "Starting writing table at 2021-09-14 10:15:33.015907\n",
      "Completing writing table at 2021-09-14 10:15:53.232093\n"
     ]
    }
   ],
   "source": [
    "print(f'Starting writing table at {datetime.now()}')\n",
    "\n",
    "viewed_placements[data_columns].sort_values(['date','carer_id']).to_sql(\n",
    "    'live_MO_AMPLITUDE_VIEWED_PLACEMENTS',\n",
    "    con=conn,\n",
    "    schema=\"elder_live\",\n",
    "    if_exists=\"replace\",\n",
    "    index=False,\n",
    "    dtype= dtypes\n",
    ")\n",
    "\n",
    "conn.execute(\n",
    "        'ALTER TABLE `elder_live`.`live_MO_AMPLITUDE_VIEWED_PLACEMENTS` CHANGE COLUMN `placement_ad_id` `placement_ad_id` VARCHAR(128) NOT NULL;')\n",
    "\n",
    "conn.execute(\n",
    "        'ALTER TABLE `elder_live`.`live_MO_AMPLITUDE_VIEWED_PLACEMENTS` CHANGE COLUMN `date` `date` DATE NOT NULL;')\n",
    "\n",
    "conn.execute(\n",
    "        'ALTER TABLE `elder_live`.`live_MO_AMPLITUDE_VIEWED_PLACEMENTS` CHANGE COLUMN `carer_id` `carer_id` VARCHAR(16) NOT NULL;')\n",
    "\n",
    "conn.execute(\n",
    "        'ALTER TABLE `elder_live`.`live_MO_AMPLITUDE_VIEWED_PLACEMENTS` CHANGE COLUMN `unique_id` `unique_id` VARCHAR(128) NOT NULL;')\n",
    "\n",
    "conn.execute(\n",
    "        'ALTER TABLE `elder_live`.`live_MO_AMPLITUDE_VIEWED_PLACEMENTS` ADD UNIQUE INDEX `unique_id` (`unique_id` ASC);')\n",
    "\n",
    "conn.execute(\n",
    "        'ALTER TABLE `elder_live`.`live_MO_AMPLITUDE_VIEWED_PLACEMENTS` ADD INDEX `date_placement_ad_id_carer_id` (`date` ASC,`placement_ad_id` ASC, `carer_id` ASC);')\n",
    "\n",
    "conn.execute(\n",
    "        'ALTER TABLE `elder_live`.`live_MO_AMPLITUDE_VIEWED_PLACEMENTS` ADD INDEX `carer_id_date_placement_ad_id` (`carer_id` ASC, `date` ASC,`placement_ad_id` ASC);')\n",
    "\n",
    "conn.execute(\n",
    "        'ALTER TABLE `elder_live`.`live_MO_AMPLITUDE_VIEWED_PLACEMENTS` ADD INDEX `placement_ad_id_date_carer_id` (`carer_id` ASC,`placement_ad_id` ASC,`date` ASC);')\n",
    "\n",
    "\n",
    "conn.execute(\n",
    "        'ALTER TABLE `elder_live`.`live_MO_AMPLITUDE_VIEWED_PLACEMENTS` ADD INDEX `date` (`date` ASC);')\n",
    "\n",
    "\n",
    "print(f'Completing writing table at {datetime.now()}')\n",
    "\n",
    "#%"
   ],
   "metadata": {
    "collapsed": false,
    "pycharm": {
     "name": "#%%\n"
    }
   }
  }
 ],
 "metadata": {
  "kernelspec": {
   "display_name": "Python 3",
   "language": "python",
   "name": "python3"
  },
  "language_info": {
   "codemirror_mode": {
    "name": "ipython",
    "version": 2
   },
   "file_extension": ".py",
   "mimetype": "text/x-python",
   "name": "python",
   "nbconvert_exporter": "python",
   "pygments_lexer": "ipython2",
   "version": "2.7.6"
  }
 },
 "nbformat": 4,
 "nbformat_minor": 0
}