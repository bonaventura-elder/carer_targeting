{
 "cells": [
  {
   "cell_type": "code",
   "execution_count": 49,
   "metadata": {
    "collapsed": true
   },
   "outputs": [],
   "source": [
    "import pandas as pd\n",
    "import os\n",
    "from datetime import timedelta, date, datetime\n",
    "from sqlalchemy import create_engine\n",
    "from sqlalchemy.types import NVARCHAR, DATE, FLOAT, VARCHAR, DATETIME\n",
    "\n",
    "import config\n",
    "\n",
    "data_dir = \"data\"\n",
    "\n",
    "engine = create_engine(\n",
    "    f\"mysql+pymysql://{config.sql_credentials['user']}:{config.sql_credentials['password']}@{config.sql_credentials['host']}:{config.sql_credentials['port']}/{config.sql_credentials['db']}\",\n",
    "    pool_pre_ping=True)\n",
    "\n",
    "conn = engine.connect()"
   ]
  },
  {
   "cell_type": "code",
   "execution_count": null,
   "outputs": [],
   "source": [],
   "metadata": {
    "collapsed": false,
    "pycharm": {
     "name": "#%%\n"
    }
   }
  },
  {
   "cell_type": "code",
   "execution_count": 35,
   "outputs": [],
   "source": [
    "et_query = '''\n",
    "            SELECT placement_ad_id, carer_id, sent_at, sms_type\n",
    "            FROM live_STATS_MATCHING_MATCH_REQUEST_CARER_SMS\n",
    "            WHERE placement_ad_id IS NOT NULL AND\n",
    "                  placement_id IS NOT NULL AND\n",
    "                  sent_at>'2019-08-01' and\n",
    "                  sms_type in ('urgentMatchSent','slowMatchingSent','preferredPlacementSent','initialPromotionSent','returningCarerSent')\n",
    "         '''\n",
    "et_sms = pd.read_sql(et_query, conn)"
   ],
   "metadata": {
    "collapsed": false,
    "pycharm": {
     "name": "#%%\n"
    }
   }
  },
  {
   "cell_type": "code",
   "execution_count": 36,
   "outputs": [
    {
     "data": {
      "text/plain": "                                          placement_ad_id    carer_id  \\\n0       plad_pl_s0DyQnvG3lBw_tnCT-b8d6476a-d89e-4952-9...  p100032767   \n1       plad_pl_s03ixZ5n2boc_mNFS-7805b74d-2327-4741-a...  p100037528   \n2       plad_pl_s0dDY73S0c5C_jWip-1b430c7e-cc09-49ec-8...  p100037528   \n3       plad_pl_s0HURQfyMqyw_baqe-42e9dcc6-ec29-493e-9...  p100037528   \n4       plad_pl_s0hxSYNLPFdB_CmNi-d0c5f403-ff92-4354-8...  p100037528   \n...                                                   ...         ...   \n835107  plad_pl_s0yteJl8rKlb_aEkV-67966ad1-acc7-4f8a-a...   p99950970   \n835108  plad_pl_s0yvV8v1z4gj_qhlV-9ed7bef5-c52c-46f6-b...   p99950970   \n835109  plad_pl_s0YYpC0B0mBS_7UOM-86e7f86d-4fb3-4d3b-8...   p99950970   \n835110  plad_pl_s0ZaRT3oAt8K_8RJa-c7f14e28-ed62-4c41-a...   p99950970   \n835111  plad_pl_s0ZK2Im3zmsK_WGin-55ed0c13-f591-4b28-9...   p99950970   \n\n                   sent_at              sms_type  \n0      2020-09-29 14:30:28  initialPromotionSent  \n1      2020-08-20 10:59:55  initialPromotionSent  \n2      2020-08-04 13:05:12  initialPromotionSent  \n3      2020-08-18 15:44:45  initialPromotionSent  \n4      2020-07-02 13:59:48  initialPromotionSent  \n...                    ...                   ...  \n835107 2021-05-17 13:41:14       urgentMatchSent  \n835108 2020-08-23 07:11:40       urgentMatchSent  \n835109 2021-04-24 08:26:03       urgentMatchSent  \n835110 2020-09-25 07:11:35       urgentMatchSent  \n835111 2021-01-19 09:40:59       urgentMatchSent  \n\n[835112 rows x 4 columns]",
      "text/html": "<div>\n<style scoped>\n    .dataframe tbody tr th:only-of-type {\n        vertical-align: middle;\n    }\n\n    .dataframe tbody tr th {\n        vertical-align: top;\n    }\n\n    .dataframe thead th {\n        text-align: right;\n    }\n</style>\n<table border=\"1\" class=\"dataframe\">\n  <thead>\n    <tr style=\"text-align: right;\">\n      <th></th>\n      <th>placement_ad_id</th>\n      <th>carer_id</th>\n      <th>sent_at</th>\n      <th>sms_type</th>\n    </tr>\n  </thead>\n  <tbody>\n    <tr>\n      <th>0</th>\n      <td>plad_pl_s0DyQnvG3lBw_tnCT-b8d6476a-d89e-4952-9...</td>\n      <td>p100032767</td>\n      <td>2020-09-29 14:30:28</td>\n      <td>initialPromotionSent</td>\n    </tr>\n    <tr>\n      <th>1</th>\n      <td>plad_pl_s03ixZ5n2boc_mNFS-7805b74d-2327-4741-a...</td>\n      <td>p100037528</td>\n      <td>2020-08-20 10:59:55</td>\n      <td>initialPromotionSent</td>\n    </tr>\n    <tr>\n      <th>2</th>\n      <td>plad_pl_s0dDY73S0c5C_jWip-1b430c7e-cc09-49ec-8...</td>\n      <td>p100037528</td>\n      <td>2020-08-04 13:05:12</td>\n      <td>initialPromotionSent</td>\n    </tr>\n    <tr>\n      <th>3</th>\n      <td>plad_pl_s0HURQfyMqyw_baqe-42e9dcc6-ec29-493e-9...</td>\n      <td>p100037528</td>\n      <td>2020-08-18 15:44:45</td>\n      <td>initialPromotionSent</td>\n    </tr>\n    <tr>\n      <th>4</th>\n      <td>plad_pl_s0hxSYNLPFdB_CmNi-d0c5f403-ff92-4354-8...</td>\n      <td>p100037528</td>\n      <td>2020-07-02 13:59:48</td>\n      <td>initialPromotionSent</td>\n    </tr>\n    <tr>\n      <th>...</th>\n      <td>...</td>\n      <td>...</td>\n      <td>...</td>\n      <td>...</td>\n    </tr>\n    <tr>\n      <th>835107</th>\n      <td>plad_pl_s0yteJl8rKlb_aEkV-67966ad1-acc7-4f8a-a...</td>\n      <td>p99950970</td>\n      <td>2021-05-17 13:41:14</td>\n      <td>urgentMatchSent</td>\n    </tr>\n    <tr>\n      <th>835108</th>\n      <td>plad_pl_s0yvV8v1z4gj_qhlV-9ed7bef5-c52c-46f6-b...</td>\n      <td>p99950970</td>\n      <td>2020-08-23 07:11:40</td>\n      <td>urgentMatchSent</td>\n    </tr>\n    <tr>\n      <th>835109</th>\n      <td>plad_pl_s0YYpC0B0mBS_7UOM-86e7f86d-4fb3-4d3b-8...</td>\n      <td>p99950970</td>\n      <td>2021-04-24 08:26:03</td>\n      <td>urgentMatchSent</td>\n    </tr>\n    <tr>\n      <th>835110</th>\n      <td>plad_pl_s0ZaRT3oAt8K_8RJa-c7f14e28-ed62-4c41-a...</td>\n      <td>p99950970</td>\n      <td>2020-09-25 07:11:35</td>\n      <td>urgentMatchSent</td>\n    </tr>\n    <tr>\n      <th>835111</th>\n      <td>plad_pl_s0ZK2Im3zmsK_WGin-55ed0c13-f591-4b28-9...</td>\n      <td>p99950970</td>\n      <td>2021-01-19 09:40:59</td>\n      <td>urgentMatchSent</td>\n    </tr>\n  </tbody>\n</table>\n<p>835112 rows × 4 columns</p>\n</div>"
     },
     "execution_count": 36,
     "metadata": {},
     "output_type": "execute_result"
    }
   ],
   "source": [
    "et_sms"
   ],
   "metadata": {
    "collapsed": false,
    "pycharm": {
     "name": "#%%\n"
    }
   }
  },
  {
   "cell_type": "code",
   "execution_count": 41,
   "outputs": [
    {
     "name": "stdout",
     "output_type": "stream",
     "text": [
      "carer_df_1909_2001 is being appended\n",
      "carer_df_2001_2002 is being appended\n",
      "carer_df_2002_2006 is being appended\n",
      "carer_df_2006_2101 is being appended\n",
      "carer_df_2101_2103 is being appended\n",
      "carer_df_2103_2108 is being appended\n",
      "(1232843, 4)\n",
      "(1174932, 4)\n"
     ]
    }
   ],
   "source": [
    "# import csvs\n",
    "\n",
    "data = pd.DataFrame()\n",
    "\n",
    "df_names = ['carer_df_1909_2001',\n",
    "            'carer_df_2001_2002',\n",
    "            'carer_df_2002_2006',\n",
    "            'carer_df_2006_2101',\n",
    "            'carer_df_2101_2103',\n",
    "            'carer_df_2103_2108']\n",
    "\n",
    "for f in df_names:\n",
    "\n",
    "    filename = f'../data/bulk_messages/output_files/{f}.csv'\n",
    "    if os.path.isfile(filename):\n",
    "        print(f'{f} is being appended')\n",
    "\n",
    "        carer_df = pd.read_csv(filename, parse_dates=['sent_at'])\n",
    "        data = data.append(carer_df)\n",
    "\n",
    "print(data.shape)\n",
    "data.drop_duplicates(subset=['placement_ad_id','carer_id','sent_at'],inplace = True) # more than one number per carer?\n",
    "print(data.shape)\n"
   ],
   "metadata": {
    "collapsed": false,
    "pycharm": {
     "name": "#%%\n"
    }
   }
  },
  {
   "cell_type": "code",
   "execution_count": 42,
   "outputs": [
    {
     "name": "stdout",
     "output_type": "stream",
     "text": [
      "2019-09-17 13:12:00 2021-08-17 18:11:00\n"
     ]
    }
   ],
   "source": [
    "print(data.sent_at.min(),data.sent_at.max())"
   ],
   "metadata": {
    "collapsed": false,
    "pycharm": {
     "name": "#%%\n"
    }
   }
  },
  {
   "cell_type": "code",
   "execution_count": 43,
   "outputs": [
    {
     "name": "stdout",
     "output_type": "stream",
     "text": [
      "True\n"
     ]
    }
   ],
   "source": [
    "data['sms_type'] = 'customListSent'\n",
    "\n",
    "data['placement_ad_id_carer_id_sent_at'] = data['placement_ad_id'] + data['carer_id'] + data['sent_at'].apply(lambda x:str(x))\n",
    "print(data['placement_ad_id_carer_id_sent_at'].nunique()==data.shape[0])"
   ],
   "metadata": {
    "collapsed": false,
    "pycharm": {
     "name": "#%%\n"
    }
   }
  },
  {
   "cell_type": "code",
   "execution_count": 46,
   "outputs": [
    {
     "data": {
      "text/plain": "     carer_id                                    placement_ad_id  \\\n0  p258326082  plad_pl_s03iuz2MBGtu_UJ2Y-7f6e6167-c776-447a-a...   \n1   p91963657  plad_pl_s03iuz2MBGtu_UJ2Y-7f6e6167-c776-447a-a...   \n2   p54540830  plad_pl_s03iuz2MBGtu_UJ2Y-7f6e6167-c776-447a-a...   \n3   p73830676  plad_pl_s03iuz2MBGtu_UJ2Y-7f6e6167-c776-447a-a...   \n4   p96258457  plad_pl_s03iuz2MBGtu_UJ2Y-7f6e6167-c776-447a-a...   \n\n              sent_at        sms_type  \\\n0 2019-09-17 13:12:00  customListSent   \n1 2019-09-17 13:12:00  customListSent   \n2 2019-09-17 13:12:00  customListSent   \n3 2019-09-17 13:12:00  customListSent   \n4 2019-09-17 13:12:00  customListSent   \n\n                    placement_ad_id_carer_id_sent_at  \n0  plad_pl_s03iuz2MBGtu_UJ2Y-7f6e6167-c776-447a-a...  \n1  plad_pl_s03iuz2MBGtu_UJ2Y-7f6e6167-c776-447a-a...  \n2  plad_pl_s03iuz2MBGtu_UJ2Y-7f6e6167-c776-447a-a...  \n3  plad_pl_s03iuz2MBGtu_UJ2Y-7f6e6167-c776-447a-a...  \n4  plad_pl_s03iuz2MBGtu_UJ2Y-7f6e6167-c776-447a-a...  ",
      "text/html": "<div>\n<style scoped>\n    .dataframe tbody tr th:only-of-type {\n        vertical-align: middle;\n    }\n\n    .dataframe tbody tr th {\n        vertical-align: top;\n    }\n\n    .dataframe thead th {\n        text-align: right;\n    }\n</style>\n<table border=\"1\" class=\"dataframe\">\n  <thead>\n    <tr style=\"text-align: right;\">\n      <th></th>\n      <th>carer_id</th>\n      <th>placement_ad_id</th>\n      <th>sent_at</th>\n      <th>sms_type</th>\n      <th>placement_ad_id_carer_id_sent_at</th>\n    </tr>\n  </thead>\n  <tbody>\n    <tr>\n      <th>0</th>\n      <td>p258326082</td>\n      <td>plad_pl_s03iuz2MBGtu_UJ2Y-7f6e6167-c776-447a-a...</td>\n      <td>2019-09-17 13:12:00</td>\n      <td>customListSent</td>\n      <td>plad_pl_s03iuz2MBGtu_UJ2Y-7f6e6167-c776-447a-a...</td>\n    </tr>\n    <tr>\n      <th>1</th>\n      <td>p91963657</td>\n      <td>plad_pl_s03iuz2MBGtu_UJ2Y-7f6e6167-c776-447a-a...</td>\n      <td>2019-09-17 13:12:00</td>\n      <td>customListSent</td>\n      <td>plad_pl_s03iuz2MBGtu_UJ2Y-7f6e6167-c776-447a-a...</td>\n    </tr>\n    <tr>\n      <th>2</th>\n      <td>p54540830</td>\n      <td>plad_pl_s03iuz2MBGtu_UJ2Y-7f6e6167-c776-447a-a...</td>\n      <td>2019-09-17 13:12:00</td>\n      <td>customListSent</td>\n      <td>plad_pl_s03iuz2MBGtu_UJ2Y-7f6e6167-c776-447a-a...</td>\n    </tr>\n    <tr>\n      <th>3</th>\n      <td>p73830676</td>\n      <td>plad_pl_s03iuz2MBGtu_UJ2Y-7f6e6167-c776-447a-a...</td>\n      <td>2019-09-17 13:12:00</td>\n      <td>customListSent</td>\n      <td>plad_pl_s03iuz2MBGtu_UJ2Y-7f6e6167-c776-447a-a...</td>\n    </tr>\n    <tr>\n      <th>4</th>\n      <td>p96258457</td>\n      <td>plad_pl_s03iuz2MBGtu_UJ2Y-7f6e6167-c776-447a-a...</td>\n      <td>2019-09-17 13:12:00</td>\n      <td>customListSent</td>\n      <td>plad_pl_s03iuz2MBGtu_UJ2Y-7f6e6167-c776-447a-a...</td>\n    </tr>\n  </tbody>\n</table>\n</div>"
     },
     "execution_count": 46,
     "metadata": {},
     "output_type": "execute_result"
    }
   ],
   "source": [
    "\n",
    "dtypes = {\n",
    "    'sent_at': DATETIME,\n",
    "}\n",
    "\n",
    "data_columns = [\n",
    "                'carer_id',\n",
    "                'placement_ad_id',\n",
    "                'sent_at',\n",
    "                'sms_type',\n",
    "                'placement_ad_id_carer_id_sent_at'\n",
    "                ]\n",
    "\n",
    "data = data[data_columns]\n",
    "\n",
    "data.head()"
   ],
   "metadata": {
    "collapsed": false,
    "pycharm": {
     "name": "#%%\n"
    }
   }
  },
  {
   "cell_type": "code",
   "execution_count": 50,
   "outputs": [
    {
     "name": "stdout",
     "output_type": "stream",
     "text": [
      "Starting writing table at 2021-09-03 09:23:49.531803\n",
      "Completing writing table at 2021-09-03 09:28:53.306041\n"
     ]
    }
   ],
   "source": [
    "print(f'Starting writing table at {datetime.now()}')\n",
    "\n",
    "data[data_columns].sort_values(['sent_at','placement_ad_id']).to_sql(\n",
    "    'live_MO_CUSTOM_LIST_MATCH_REQUEST_CARER_SMS',\n",
    "    con=conn,\n",
    "    schema=\"elder_live\",\n",
    "    if_exists=\"replace\",\n",
    "    index=False,\n",
    "    dtype= dtypes\n",
    ")\n",
    "\n",
    "conn.execute(\n",
    "        'ALTER TABLE `elder_live`.`live_MO_CUSTOM_LIST_MATCH_REQUEST_CARER_SMS` CHANGE COLUMN `placement_ad_id` `placement_ad_id` VARCHAR(128) NOT NULL;')\n",
    "\n",
    "conn.execute(\n",
    "        'ALTER TABLE `elder_live`.`live_MO_CUSTOM_LIST_MATCH_REQUEST_CARER_SMS` CHANGE COLUMN `sent_at` `sent_at` DATETIME NOT NULL;')\n",
    "\n",
    "conn.execute(\n",
    "        'ALTER TABLE `elder_live`.`live_MO_CUSTOM_LIST_MATCH_REQUEST_CARER_SMS` CHANGE COLUMN `carer_id` `carer_id` VARCHAR(16) NOT NULL;')\n",
    "\n",
    "conn.execute(\n",
    "        'ALTER TABLE `elder_live`.`live_MO_CUSTOM_LIST_MATCH_REQUEST_CARER_SMS` CHANGE COLUMN `sms_type` `sms_type` VARCHAR(32) NOT NULL;')\n",
    "\n",
    "conn.execute(\n",
    "        'ALTER TABLE `elder_live`.`live_MO_CUSTOM_LIST_MATCH_REQUEST_CARER_SMS` ADD UNIQUE INDEX `placement_ad_id_sent_at_carer_id` (`placement_ad_id` ASC, `sent_at` ASC, `carer_id` ASC);')\n",
    "\n",
    "conn.execute(\n",
    "        'ALTER TABLE `elder_live`.`live_MO_CUSTOM_LIST_MATCH_REQUEST_CARER_SMS` ADD UNIQUE INDEX `sent_at_placement_ad_id_carer_id` (`sent_at` ASC,`placement_ad_id` ASC, `carer_id` ASC);')\n",
    "\n",
    "conn.execute(\n",
    "        'ALTER TABLE `elder_live`.`live_MO_CUSTOM_LIST_MATCH_REQUEST_CARER_SMS` ADD UNIQUE INDEX `carer_id_sent_at_placement_ad_id` (`carer_id` ASC, `sent_at` ASC,`placement_ad_id` ASC);')\n",
    "\n",
    "conn.execute(\n",
    "        'ALTER TABLE `elder_live`.`live_MO_CUSTOM_LIST_MATCH_REQUEST_CARER_SMS` ADD UNIQUE INDEX `sent_at_carer_id_placement_ad_id` (`sent_at` ASC,`carer_id` ASC,`placement_ad_id` ASC);')\n",
    "\n",
    "\n",
    "print(f'Completing writing table at {datetime.now()}')\n",
    "\n"
   ],
   "metadata": {
    "collapsed": false,
    "pycharm": {
     "name": "#%%\n"
    }
   }
  }
 ],
 "metadata": {
  "kernelspec": {
   "display_name": "Python 3",
   "language": "python",
   "name": "python3"
  },
  "language_info": {
   "codemirror_mode": {
    "name": "ipython",
    "version": 2
   },
   "file_extension": ".py",
   "mimetype": "text/x-python",
   "name": "python",
   "nbconvert_exporter": "python",
   "pygments_lexer": "ipython2",
   "version": "2.7.6"
  }
 },
 "nbformat": 4,
 "nbformat_minor": 0
}