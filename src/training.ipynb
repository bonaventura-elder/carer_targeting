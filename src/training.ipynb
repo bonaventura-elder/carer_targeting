{
 "cells": [
  {
   "cell_type": "code",
   "execution_count": null,
   "metadata": {
    "collapsed": true
   },
   "outputs": [],
   "source": []
  },
  {
   "cell_type": "code",
   "execution_count": 1,
   "outputs": [],
   "source": [
    "import pandas as pd\n",
    "import os\n",
    "from datetime import timedelta, date, datetime\n",
    "from sqlalchemy import create_engine\n",
    "from sqlalchemy.types import NVARCHAR, DATE, FLOAT, VARCHAR, DATETIME\n",
    "\n",
    "import config\n",
    "\n",
    "data_dir = \"data\"\n",
    "\n",
    "engine = create_engine(\n",
    "    f\"mysql+pymysql://{config.sql_credentials['user']}:{config.sql_credentials['password']}@{config.sql_credentials['host']}:{config.sql_credentials['port']}/{config.sql_credentials['db']}\",\n",
    "    pool_pre_ping=True)\n",
    "\n",
    "conn = engine.connect()"
   ],
   "metadata": {
    "collapsed": false,
    "pycharm": {
     "name": "#%%\n"
    }
   }
  },
  {
   "cell_type": "code",
   "execution_count": 2,
   "outputs": [],
   "source": [
    "training_query = '''\n",
    "SELECT\n",
    "    s.placement_ad_id,\n",
    "    s.match_request_id,\n",
    "    s.carer_id,\n",
    "    sent_at,\n",
    "    updated_at,\n",
    "    sms_type,\n",
    "    if(HOUR(TIMEDIFF(valid_from,sent_at))<8,1,0) as carer_applied_in_8hrs,\n",
    "    DATEDIFF(start_date,sent_at) as lead_time,\n",
    "    if(end_date IS NULL,1,0) as ongoing,\n",
    "    min_provider_rate,\n",
    "    one_off_payments_total,\n",
    "    if(driving_requirements='LICENSE_NEEDED',1,0) as licence_needed,\n",
    "    if(driving_requirements='CAR_NEEDED',1,0) as car_needed,\n",
    "    if(placement_requirements regexp 'MOVING_HANDLING',1,0) as moving_handling,\n",
    "    if(placement_requirements regexp 'DEMENTIA',1,0) as dementia,\n",
    "    if(placement_requirements regexp 'MENTAL_HEALTH_ISSUES',1,0) as mental_health_issues,\n",
    "    if(placement_requirements regexp 'HOIST',1,0) as hoist,\n",
    "    if(placement_requirements regexp 'PARKINSONS',1,0) as parkinsons,\n",
    "    if(placement_requirements regexp 'STROKE',1,0) as stroke,\n",
    "    if(placement_requirements regexp 'ALZHEIMERS',1,0) as alzheimers,\n",
    "    if(placement_requirements regexp 'STOMA',1,0) as stoma,\n",
    "    if(placement_requirements regexp 'DIABETES',1,0) as diabetes,\n",
    "    if(placement_requirements regexp 'PEG',1,0) as peg,\n",
    "    if(has_wifi=1,1,0) as has_wifi,\n",
    "    if(smoking=1,1,0) as smoking,\n",
    "    if(has_pets='NO_PETS' OR has_pets='' OR has_pets IS NULL,0,1) as has_pets,\n",
    "    if(h.service_type_id LIKE '%%2_RECIPIENTS%%',1,0) AS has_two_crs,\n",
    "    latitude,\n",
    "    longitude\n",
    "FROM\n",
    "     (\n",
    "         SELECT *,SUBSTRING(SUBSTRING(placement_ad_id,6),1,CHAR_LENGTH(SUBSTRING(placement_ad_id,6))-5) as match_request_id\n",
    "         FROM live_STATS_MATCHING_MATCH_REQUEST_CARER_SMS\n",
    "    ) s\n",
    "LEFT JOIN live_STATS_MATCHING_PLACEMENT_AD_APPLICATION a\n",
    "    on (s.match_request_id = a.match_request_id AND s.carer_id = a.carer_id )\n",
    "LEFT JOIN live_STATS_MATCHING_PLACEMENT_AD_HISTORY h\n",
    "ON (s.placement_ad_id = h.placement_ad_id)\n",
    "WHERE s.placement_ad_id IS NOT NULL AND\n",
    "      s.placement_id IS NOT NULL AND\n",
    "      sent_at<'2021-08-18' AND\n",
    "      sent_at>'2019-10-01' AND\n",
    "      sms_type in ('urgentMatchSent','slowMatchingSent','preferredPlacementSent','initialPromotionSent','returningCarerSent')\n",
    "    AND (h.updated_at IS NULL\n",
    "    OR h.updated_at = (\n",
    "        SELECT MAX(h2.updated_at)\n",
    "        FROM live_STATS_MATCHING_PLACEMENT_AD_HISTORY h2\n",
    "        WHERE s.placement_ad_id = h2.placement_ad_id\n",
    "#         AND sent_at>=h2.updated_at ??\n",
    "    ))\n",
    "'''"
   ],
   "metadata": {
    "collapsed": false,
    "pycharm": {
     "name": "#%%\n"
    }
   }
  },
  {
   "cell_type": "code",
   "execution_count": null,
   "outputs": [],
   "source": [
    "training_data = pd.read_sql(training_query, conn)"
   ],
   "metadata": {
    "collapsed": false,
    "pycharm": {
     "name": "#%%\n",
     "is_executing": true
    }
   }
  },
  {
   "cell_type": "code",
   "execution_count": null,
   "outputs": [],
   "source": [
    "training_data.head()"
   ],
   "metadata": {
    "collapsed": false,
    "pycharm": {
     "name": "#%%\n",
     "is_executing": true
    }
   }
  }
 ],
 "metadata": {
  "kernelspec": {
   "display_name": "Python 3",
   "language": "python",
   "name": "python3"
  },
  "language_info": {
   "codemirror_mode": {
    "name": "ipython",
    "version": 2
   },
   "file_extension": ".py",
   "mimetype": "text/x-python",
   "name": "python",
   "nbconvert_exporter": "python",
   "pygments_lexer": "ipython2",
   "version": "2.7.6"
  }
 },
 "nbformat": 4,
 "nbformat_minor": 0
}