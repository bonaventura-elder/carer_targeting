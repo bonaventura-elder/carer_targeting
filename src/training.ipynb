{
 "cells": [
  {
   "cell_type": "code",
   "execution_count": null,
   "metadata": {
    "collapsed": true
   },
   "outputs": [],
   "source": []
  },
  {
   "cell_type": "markdown",
   "source": [
    "# Model training\n",
    "\n",
    "- ## Data ingestion\n",
    "- ## Data size,shape, missings (pandas profile)\n",
    "- ## Feature engineering and histograms\n",
    "- ## Breakdowns by groups\n",
    "- ## Split 80 - 20\n",
    "- ## Model training XGB + pipe with power scaler\n",
    "- ## Grid search on hyperparameters with CV\n",
    "- ## Plots and metrics including exporting\n",
    "- ## Export weights"
   ],
   "metadata": {
    "collapsed": false,
    "pycharm": {
     "name": "#%% md\n"
    }
   }
  },
  {
   "cell_type": "markdown",
   "source": [
    "# Model casting\n",
    "\n",
    "- ## creating job (days missing)\n",
    "- ## Data ingestion\n",
    "- ## feature engineering\n",
    "- ## calling weights\n",
    "- ## predictions\n",
    "- ## appending to table"
   ],
   "metadata": {
    "collapsed": false,
    "pycharm": {
     "name": "#%% md\n"
    }
   }
  },
  {
   "cell_type": "code",
   "execution_count": 64,
   "outputs": [],
   "source": [
    "from datetime import date, datetime, timedelta\n",
    "import pandas as pd\n",
    "from sqlalchemy import create_engine\n",
    "\n",
    "import config\n",
    "\n",
    "engine = create_engine(\n",
    "    f\"mysql+pymysql://{config.sql_credentials['user']}:{config.sql_credentials['password']}@{config.sql_credentials['host']}:{config.sql_credentials['port']}/{config.sql_credentials['db']}\",\n",
    "    pool_pre_ping=True)\n",
    "\n",
    "conn = engine.connect()"
   ],
   "metadata": {
    "collapsed": false,
    "pycharm": {
     "name": "#%%\n"
    }
   }
  },
  {
   "cell_type": "code",
   "execution_count": null,
   "outputs": [],
   "source": [
    "\n",
    "p=['grouped_days_worked_past_90','grouped_apps_past_7_days',\n",
    "'','distance_km','']\n"
   ],
   "metadata": {
    "collapsed": false,
    "pycharm": {
     "name": "#%%\n"
    }
   }
  },
  {
   "cell_type": "code",
   "execution_count": 92,
   "outputs": [
    {
     "name": "stdout",
     "output_type": "stream",
     "text": [
      "2021-09-30\n"
     ]
    }
   ],
   "source": [
    "curdate = date.today()\n",
    "print(curdate)\n",
    "\n",
    "placement_query = f'''\n",
    "SELECT\n",
    "       placement_ad_id,\n",
    "       published_at,\n",
    "       eligible_carer_ids,\n",
    "       min_provider_rate,\n",
    "       if( ethnicities_at_risk regexp 'BLACK_ALL',1,0) as ethnicities_at_risk_BLACK_ALL,\n",
    "       DATEDIFF(published_at,cr.max_date_of_birth)/365.25 as max_cr_age,\n",
    "       if(recipient_1_gender = 'MALE',1,0) as recipient_1_male,\n",
    "       if(one_off_payments_total IS NULL,0,one_off_payments_total) as one_off_payments_total,\n",
    "       if(has_pets regexp 'DOGS',1,0) as has_dogs,\n",
    "       GREATEST(0,LOG(DATEDIFF(start_date,published_at))) as log_lead_time,\n",
    "       if(end_date IS NULL,1,0) as ongoing,\n",
    "       difficulty_normalised,\n",
    "       if(a.postcode_sector REGEXP'[A-Z][A-Z]',UPPER(substring(a.postcode_sector,1,2)),UPPER(substring(a.postcode_sector,1,1))) as postcode_area_placement,\n",
    "       SUBSTRING(SUBSTRING(placement_ad_id,6),1,CHAR_LENGTH(SUBSTRING(placement_ad_id,6))-5) as match_request_id\n",
    "FROM live_STATS_MATCHING_PLACEMENT_AD a\n",
    "LEFT JOIN (\n",
    "    SELECT\n",
    "           mr.match_request_id,\n",
    "           difficulty_normalised,\n",
    "           c.customer_id,\n",
    "           if(c.recipient_2_date_of_birth IS NOT NULL,LEAST(c.recipient_1_date_of_birth, c.recipient_2_date_of_birth),c.recipient_1_date_of_birth) as max_date_of_birth,\n",
    "           car.gender as recipient_1_gender,\n",
    "           c.ethnicities_at_risk\n",
    "    FROM live_STATS_MATCHING_MATCH_REQUEST mr\n",
    "    LEFT JOIN live_STATS_CUSTOMERS c\n",
    "    ON mr.account_id = c.customer_id\n",
    "    LEFT JOIN live_STATS_CUSTOMERS_CARE_APPRAISAL_RECIPIENT car\n",
    "    ON car.account_id = mr.account_id\n",
    "    LEFT JOIN live_STATS_MATCHING_DIFFICULTY md\n",
    "    ON (mr.match_request_id = md.match_request_id)\n",
    "    ) cr\n",
    "ON cr.match_request_id = a.match_request_id\n",
    "WHERE DATE_FORMAT(published_at, '%%Y-%%m-%%d') = '{curdate}'\n",
    "'''\n",
    "\n",
    "placement_data = pd.read_sql(placement_query,conn)\n",
    "placement_data.reset_index(inplace=True)"
   ],
   "metadata": {
    "collapsed": false,
    "pycharm": {
     "name": "#%%\n"
    }
   }
  },
  {
   "cell_type": "code",
   "execution_count": 93,
   "outputs": [
    {
     "data": {
      "text/plain": "                                         placement_ad_id        published_at  \\\n0      plad_pl_s00e2ZDNPZqM_4m3d-b7676ec4-c0c4-4a8d-8... 2021-09-30 08:42:28   \n1      plad_pl_s00e2ZDNPZqM_4m3d-b7676ec4-c0c4-4a8d-8... 2021-09-30 08:42:28   \n2      plad_pl_s00e2ZDNPZqM_4m3d-b7676ec4-c0c4-4a8d-8... 2021-09-30 08:42:28   \n3      plad_pl_s00e2ZDNPZqM_4m3d-b7676ec4-c0c4-4a8d-8... 2021-09-30 08:42:28   \n4      plad_pl_s00e2ZDNPZqM_4m3d-b7676ec4-c0c4-4a8d-8... 2021-09-30 08:42:28   \n...                                                  ...                 ...   \n54794  plad_pl_s0YNf7dGMhMt_RZZG-083e9c2e-2438-4379-b... 2021-09-30 11:31:03   \n54795  plad_pl_s0YNf7dGMhMt_RZZG-083e9c2e-2438-4379-b... 2021-09-30 11:31:03   \n54796  plad_pl_s0YNf7dGMhMt_RZZG-083e9c2e-2438-4379-b... 2021-09-30 11:31:03   \n54797  plad_pl_s0YNf7dGMhMt_RZZG-083e9c2e-2438-4379-b... 2021-09-30 11:31:03   \n54798  plad_pl_s0YNf7dGMhMt_RZZG-083e9c2e-2438-4379-b... 2021-09-30 11:31:03   \n\n         carer_id  min_provider_rate  ethnicities_at_risk_BLACK_ALL  \\\n0       p83637819              700.0                              0   \n1      p149291474              700.0                              0   \n2      p220951067              700.0                              0   \n3      p129992250              700.0                              0   \n4      p229419193              700.0                              0   \n...           ...                ...                            ...   \n54794   p83066404              700.0                              0   \n54795  p146299409              700.0                              0   \n54796   p39241355              700.0                              0   \n54797  p125708531              700.0                              0   \n54798    p2843326              700.0                              0   \n\n       max_cr_age  recipient_1_male  one_off_payments_total  has_dogs  \\\n0         92.4079                 1                     0.0         0   \n1         92.4079                 1                     0.0         0   \n2         92.4079                 1                     0.0         0   \n3         92.4079                 1                     0.0         0   \n4         92.4079                 1                     0.0         0   \n...           ...               ...                     ...       ...   \n54794     83.5729                 0                     0.0         0   \n54795     83.5729                 0                     0.0         0   \n54796     83.5729                 0                     0.0         0   \n54797     83.5729                 0                     0.0         0   \n54798     83.5729                 0                     0.0         0   \n\n       log_lead_time  ongoing  difficulty_normalised postcode_area_placement  \\\n0           3.465736        1               1.000000                      NP   \n1           3.465736        1               1.000000                      NP   \n2           3.465736        1               1.000000                      NP   \n3           3.465736        1               1.000000                      NP   \n4           3.465736        1               1.000000                      NP   \n...              ...      ...                    ...                     ...   \n54794       4.189655        0               0.693629                      GU   \n54795       4.189655        0               0.693629                      GU   \n54796       4.189655        0               0.693629                      GU   \n54797       4.189655        0               0.693629                      GU   \n54798       4.189655        0               0.693629                      GU   \n\n                                        match_request_id  \n0      pl_s00e2ZDNPZqM_4m3d-b7676ec4-c0c4-4a8d-8c6b-5...  \n1      pl_s00e2ZDNPZqM_4m3d-b7676ec4-c0c4-4a8d-8c6b-5...  \n2      pl_s00e2ZDNPZqM_4m3d-b7676ec4-c0c4-4a8d-8c6b-5...  \n3      pl_s00e2ZDNPZqM_4m3d-b7676ec4-c0c4-4a8d-8c6b-5...  \n4      pl_s00e2ZDNPZqM_4m3d-b7676ec4-c0c4-4a8d-8c6b-5...  \n...                                                  ...  \n54794  pl_s0YNf7dGMhMt_RZZG-083e9c2e-2438-4379-b456-f...  \n54795  pl_s0YNf7dGMhMt_RZZG-083e9c2e-2438-4379-b456-f...  \n54796  pl_s0YNf7dGMhMt_RZZG-083e9c2e-2438-4379-b456-f...  \n54797  pl_s0YNf7dGMhMt_RZZG-083e9c2e-2438-4379-b456-f...  \n54798  pl_s0YNf7dGMhMt_RZZG-083e9c2e-2438-4379-b456-f...  \n\n[54799 rows x 14 columns]",
      "text/html": "<div>\n<style scoped>\n    .dataframe tbody tr th:only-of-type {\n        vertical-align: middle;\n    }\n\n    .dataframe tbody tr th {\n        vertical-align: top;\n    }\n\n    .dataframe thead th {\n        text-align: right;\n    }\n</style>\n<table border=\"1\" class=\"dataframe\">\n  <thead>\n    <tr style=\"text-align: right;\">\n      <th></th>\n      <th>placement_ad_id</th>\n      <th>published_at</th>\n      <th>carer_id</th>\n      <th>min_provider_rate</th>\n      <th>ethnicities_at_risk_BLACK_ALL</th>\n      <th>max_cr_age</th>\n      <th>recipient_1_male</th>\n      <th>one_off_payments_total</th>\n      <th>has_dogs</th>\n      <th>log_lead_time</th>\n      <th>ongoing</th>\n      <th>difficulty_normalised</th>\n      <th>postcode_area_placement</th>\n      <th>match_request_id</th>\n    </tr>\n  </thead>\n  <tbody>\n    <tr>\n      <th>0</th>\n      <td>plad_pl_s00e2ZDNPZqM_4m3d-b7676ec4-c0c4-4a8d-8...</td>\n      <td>2021-09-30 08:42:28</td>\n      <td>p83637819</td>\n      <td>700.0</td>\n      <td>0</td>\n      <td>92.4079</td>\n      <td>1</td>\n      <td>0.0</td>\n      <td>0</td>\n      <td>3.465736</td>\n      <td>1</td>\n      <td>1.000000</td>\n      <td>NP</td>\n      <td>pl_s00e2ZDNPZqM_4m3d-b7676ec4-c0c4-4a8d-8c6b-5...</td>\n    </tr>\n    <tr>\n      <th>1</th>\n      <td>plad_pl_s00e2ZDNPZqM_4m3d-b7676ec4-c0c4-4a8d-8...</td>\n      <td>2021-09-30 08:42:28</td>\n      <td>p149291474</td>\n      <td>700.0</td>\n      <td>0</td>\n      <td>92.4079</td>\n      <td>1</td>\n      <td>0.0</td>\n      <td>0</td>\n      <td>3.465736</td>\n      <td>1</td>\n      <td>1.000000</td>\n      <td>NP</td>\n      <td>pl_s00e2ZDNPZqM_4m3d-b7676ec4-c0c4-4a8d-8c6b-5...</td>\n    </tr>\n    <tr>\n      <th>2</th>\n      <td>plad_pl_s00e2ZDNPZqM_4m3d-b7676ec4-c0c4-4a8d-8...</td>\n      <td>2021-09-30 08:42:28</td>\n      <td>p220951067</td>\n      <td>700.0</td>\n      <td>0</td>\n      <td>92.4079</td>\n      <td>1</td>\n      <td>0.0</td>\n      <td>0</td>\n      <td>3.465736</td>\n      <td>1</td>\n      <td>1.000000</td>\n      <td>NP</td>\n      <td>pl_s00e2ZDNPZqM_4m3d-b7676ec4-c0c4-4a8d-8c6b-5...</td>\n    </tr>\n    <tr>\n      <th>3</th>\n      <td>plad_pl_s00e2ZDNPZqM_4m3d-b7676ec4-c0c4-4a8d-8...</td>\n      <td>2021-09-30 08:42:28</td>\n      <td>p129992250</td>\n      <td>700.0</td>\n      <td>0</td>\n      <td>92.4079</td>\n      <td>1</td>\n      <td>0.0</td>\n      <td>0</td>\n      <td>3.465736</td>\n      <td>1</td>\n      <td>1.000000</td>\n      <td>NP</td>\n      <td>pl_s00e2ZDNPZqM_4m3d-b7676ec4-c0c4-4a8d-8c6b-5...</td>\n    </tr>\n    <tr>\n      <th>4</th>\n      <td>plad_pl_s00e2ZDNPZqM_4m3d-b7676ec4-c0c4-4a8d-8...</td>\n      <td>2021-09-30 08:42:28</td>\n      <td>p229419193</td>\n      <td>700.0</td>\n      <td>0</td>\n      <td>92.4079</td>\n      <td>1</td>\n      <td>0.0</td>\n      <td>0</td>\n      <td>3.465736</td>\n      <td>1</td>\n      <td>1.000000</td>\n      <td>NP</td>\n      <td>pl_s00e2ZDNPZqM_4m3d-b7676ec4-c0c4-4a8d-8c6b-5...</td>\n    </tr>\n    <tr>\n      <th>...</th>\n      <td>...</td>\n      <td>...</td>\n      <td>...</td>\n      <td>...</td>\n      <td>...</td>\n      <td>...</td>\n      <td>...</td>\n      <td>...</td>\n      <td>...</td>\n      <td>...</td>\n      <td>...</td>\n      <td>...</td>\n      <td>...</td>\n      <td>...</td>\n    </tr>\n    <tr>\n      <th>54794</th>\n      <td>plad_pl_s0YNf7dGMhMt_RZZG-083e9c2e-2438-4379-b...</td>\n      <td>2021-09-30 11:31:03</td>\n      <td>p83066404</td>\n      <td>700.0</td>\n      <td>0</td>\n      <td>83.5729</td>\n      <td>0</td>\n      <td>0.0</td>\n      <td>0</td>\n      <td>4.189655</td>\n      <td>0</td>\n      <td>0.693629</td>\n      <td>GU</td>\n      <td>pl_s0YNf7dGMhMt_RZZG-083e9c2e-2438-4379-b456-f...</td>\n    </tr>\n    <tr>\n      <th>54795</th>\n      <td>plad_pl_s0YNf7dGMhMt_RZZG-083e9c2e-2438-4379-b...</td>\n      <td>2021-09-30 11:31:03</td>\n      <td>p146299409</td>\n      <td>700.0</td>\n      <td>0</td>\n      <td>83.5729</td>\n      <td>0</td>\n      <td>0.0</td>\n      <td>0</td>\n      <td>4.189655</td>\n      <td>0</td>\n      <td>0.693629</td>\n      <td>GU</td>\n      <td>pl_s0YNf7dGMhMt_RZZG-083e9c2e-2438-4379-b456-f...</td>\n    </tr>\n    <tr>\n      <th>54796</th>\n      <td>plad_pl_s0YNf7dGMhMt_RZZG-083e9c2e-2438-4379-b...</td>\n      <td>2021-09-30 11:31:03</td>\n      <td>p39241355</td>\n      <td>700.0</td>\n      <td>0</td>\n      <td>83.5729</td>\n      <td>0</td>\n      <td>0.0</td>\n      <td>0</td>\n      <td>4.189655</td>\n      <td>0</td>\n      <td>0.693629</td>\n      <td>GU</td>\n      <td>pl_s0YNf7dGMhMt_RZZG-083e9c2e-2438-4379-b456-f...</td>\n    </tr>\n    <tr>\n      <th>54797</th>\n      <td>plad_pl_s0YNf7dGMhMt_RZZG-083e9c2e-2438-4379-b...</td>\n      <td>2021-09-30 11:31:03</td>\n      <td>p125708531</td>\n      <td>700.0</td>\n      <td>0</td>\n      <td>83.5729</td>\n      <td>0</td>\n      <td>0.0</td>\n      <td>0</td>\n      <td>4.189655</td>\n      <td>0</td>\n      <td>0.693629</td>\n      <td>GU</td>\n      <td>pl_s0YNf7dGMhMt_RZZG-083e9c2e-2438-4379-b456-f...</td>\n    </tr>\n    <tr>\n      <th>54798</th>\n      <td>plad_pl_s0YNf7dGMhMt_RZZG-083e9c2e-2438-4379-b...</td>\n      <td>2021-09-30 11:31:03</td>\n      <td>p2843326</td>\n      <td>700.0</td>\n      <td>0</td>\n      <td>83.5729</td>\n      <td>0</td>\n      <td>0.0</td>\n      <td>0</td>\n      <td>4.189655</td>\n      <td>0</td>\n      <td>0.693629</td>\n      <td>GU</td>\n      <td>pl_s0YNf7dGMhMt_RZZG-083e9c2e-2438-4379-b456-f...</td>\n    </tr>\n  </tbody>\n</table>\n<p>54799 rows × 14 columns</p>\n</div>"
     },
     "execution_count": 93,
     "metadata": {},
     "output_type": "execute_result"
    }
   ],
   "source": [
    "placement_data['eligible_carer_ids']=placement_data.eligible_carer_ids.apply(lambda x: x.replace(' ','').split(','))\n",
    "\n",
    "placement_data=placement_data.explode('eligible_carer_ids').reset_index()\n",
    "placement_data.drop(['level_0','index'], axis = 1, inplace=True)\n",
    "placement_data.rename(columns={'eligible_carer_ids':'carer_id'}, inplace = True)\n",
    "\n",
    "placement_data"
   ],
   "metadata": {
    "collapsed": false,
    "pycharm": {
     "name": "#%%\n"
    }
   }
  },
  {
   "cell_type": "code",
   "execution_count": 94,
   "outputs": [
    {
     "data": {
      "text/plain": "        carer_id postcode_area_carer  log_years_on_elder  carer_gender_FEMALE  \\\n0     p100146905                   M            0.971546                    1   \n1     p100159862                   N            0.000000                    1   \n2     p100267586                  OX            0.241455                    1   \n3     p100322957                  EN            0.000000                    1   \n4     p100481747                  CT            1.102483                    0   \n...          ...                 ...                 ...                  ...   \n2633   p99426944                  RM            0.839937                    0   \n2634   p99455378                  OL            1.382866                    1   \n2635   p99816556                  OL            1.082281                    1   \n2636   p99929491                  CB            0.609676                    1   \n2637   p99950970                  SE            0.277362                    1   \n\n      days_worked_past_90  apps_past_7_days  \n0                       0                 7  \n1                       7                 0  \n2                       0                 0  \n3                       0                 0  \n4                      12                 4  \n...                   ...               ...  \n2633                    0                 0  \n2634                   18                 0  \n2635                    0                 0  \n2636                   82                 0  \n2637                    0                 0  \n\n[2638 rows x 6 columns]",
      "text/html": "<div>\n<style scoped>\n    .dataframe tbody tr th:only-of-type {\n        vertical-align: middle;\n    }\n\n    .dataframe tbody tr th {\n        vertical-align: top;\n    }\n\n    .dataframe thead th {\n        text-align: right;\n    }\n</style>\n<table border=\"1\" class=\"dataframe\">\n  <thead>\n    <tr style=\"text-align: right;\">\n      <th></th>\n      <th>carer_id</th>\n      <th>postcode_area_carer</th>\n      <th>log_years_on_elder</th>\n      <th>carer_gender_FEMALE</th>\n      <th>days_worked_past_90</th>\n      <th>apps_past_7_days</th>\n    </tr>\n  </thead>\n  <tbody>\n    <tr>\n      <th>0</th>\n      <td>p100146905</td>\n      <td>M</td>\n      <td>0.971546</td>\n      <td>1</td>\n      <td>0</td>\n      <td>7</td>\n    </tr>\n    <tr>\n      <th>1</th>\n      <td>p100159862</td>\n      <td>N</td>\n      <td>0.000000</td>\n      <td>1</td>\n      <td>7</td>\n      <td>0</td>\n    </tr>\n    <tr>\n      <th>2</th>\n      <td>p100267586</td>\n      <td>OX</td>\n      <td>0.241455</td>\n      <td>1</td>\n      <td>0</td>\n      <td>0</td>\n    </tr>\n    <tr>\n      <th>3</th>\n      <td>p100322957</td>\n      <td>EN</td>\n      <td>0.000000</td>\n      <td>1</td>\n      <td>0</td>\n      <td>0</td>\n    </tr>\n    <tr>\n      <th>4</th>\n      <td>p100481747</td>\n      <td>CT</td>\n      <td>1.102483</td>\n      <td>0</td>\n      <td>12</td>\n      <td>4</td>\n    </tr>\n    <tr>\n      <th>...</th>\n      <td>...</td>\n      <td>...</td>\n      <td>...</td>\n      <td>...</td>\n      <td>...</td>\n      <td>...</td>\n    </tr>\n    <tr>\n      <th>2633</th>\n      <td>p99426944</td>\n      <td>RM</td>\n      <td>0.839937</td>\n      <td>0</td>\n      <td>0</td>\n      <td>0</td>\n    </tr>\n    <tr>\n      <th>2634</th>\n      <td>p99455378</td>\n      <td>OL</td>\n      <td>1.382866</td>\n      <td>1</td>\n      <td>18</td>\n      <td>0</td>\n    </tr>\n    <tr>\n      <th>2635</th>\n      <td>p99816556</td>\n      <td>OL</td>\n      <td>1.082281</td>\n      <td>1</td>\n      <td>0</td>\n      <td>0</td>\n    </tr>\n    <tr>\n      <th>2636</th>\n      <td>p99929491</td>\n      <td>CB</td>\n      <td>0.609676</td>\n      <td>1</td>\n      <td>82</td>\n      <td>0</td>\n    </tr>\n    <tr>\n      <th>2637</th>\n      <td>p99950970</td>\n      <td>SE</td>\n      <td>0.277362</td>\n      <td>1</td>\n      <td>0</td>\n      <td>0</td>\n    </tr>\n  </tbody>\n</table>\n<p>2638 rows × 6 columns</p>\n</div>"
     },
     "execution_count": 94,
     "metadata": {},
     "output_type": "execute_result"
    }
   ],
   "source": [
    "carer_query = f'''\n",
    "SELECT\n",
    "    professional_id as carer_id,\n",
    "    UPPER(postcode_area) as postcode_area_carer,\n",
    "    GREATEST(LOG(DATEDIFF(CURDATE(),p.activated_at)/365.25),0) as log_years_on_elder,\n",
    "    if(p.gender = 'FEMALE',1,0) as carer_gender_FEMALE,\n",
    "    COALESCE(days_worked_past_90,0) as days_worked_past_90,\n",
    "    COALESCE(apps_past_7_days,0) as apps_past_7_days\n",
    "FROM live_STATS_PROFESSIONAL p\n",
    "LEFT JOIN(\n",
    "    SELECT\n",
    "       v.professional_id as carer_id,\n",
    "       count(*) as days_worked_past_90\n",
    "    FROM dates d\n",
    "    LEFT JOIN (\n",
    "        SELECT\n",
    "               date(start_date_time) as work_date,\n",
    "               professional_id\n",
    "        FROM live_STATS_NON_CANCELLED_VISITS\n",
    "        WHERE professional_id IS NOT NULL\n",
    "            ) v on d.date> v.work_date AND date_add(d.date, INTERVAL -90 day) <= v.work_date\n",
    "    WHERE d.date = '{curdate}'\n",
    "    GROUP BY 1\n",
    "    ) d\n",
    "ON d.carer_id = p.professional_id\n",
    "LEFT JOIN (\n",
    "     SELECT\n",
    "       v.carer_id,\n",
    "       count(*) as apps_past_7_days\n",
    "    FROM dates d\n",
    "    LEFT JOIN (\n",
    "        SELECT\n",
    "               date(valid_from) as work_date,\n",
    "               carer_id\n",
    "        FROM live_STATS_MATCHING_PLACEMENT_AD_APPLICATION\n",
    "        WHERE carer_id IS NOT NULL\n",
    "            ) v on d.date > v.work_date AND date_add(d.date, INTERVAL -7 day) <= v.work_date\n",
    "        WHERE d.date = '{curdate}'\n",
    "        GROUP BY 1\n",
    "    ) apps\n",
    "ON apps.carer_id = p.professional_id\n",
    "WHERE professional_id IN {tuple(placement_data.carer_id.unique().tolist())}\n",
    "'''\n",
    "\n",
    "carer_data = pd.read_sql(carer_query,conn)\n",
    "carer_data"
   ],
   "metadata": {
    "collapsed": false,
    "pycharm": {
     "name": "#%%\n"
    }
   }
  },
  {
   "cell_type": "code",
   "execution_count": 95,
   "outputs": [
    {
     "data": {
      "text/plain": "2638"
     },
     "execution_count": 95,
     "metadata": {},
     "output_type": "execute_result"
    }
   ],
   "source": [],
   "metadata": {
    "collapsed": false,
    "pycharm": {
     "name": "#%%\n"
    }
   }
  },
  {
   "cell_type": "code",
   "execution_count": 67,
   "outputs": [
    {
     "data": {
      "text/plain": "      from  to  distance_km\n0       AB  AB          0.0\n1       AB  AL        873.0\n2       AB   B        681.0\n3       AB  BA       1017.0\n4       AB  BB        534.0\n...    ...  ..          ...\n14636   ZE  WR       1080.0\n14637   ZE  WS       1027.0\n14638   ZE  WV       1020.0\n14639   ZE  YO        899.0\n14640   ZE  ZE          0.0\n\n[14641 rows x 3 columns]",
      "text/html": "<div>\n<style scoped>\n    .dataframe tbody tr th:only-of-type {\n        vertical-align: middle;\n    }\n\n    .dataframe tbody tr th {\n        vertical-align: top;\n    }\n\n    .dataframe thead th {\n        text-align: right;\n    }\n</style>\n<table border=\"1\" class=\"dataframe\">\n  <thead>\n    <tr style=\"text-align: right;\">\n      <th></th>\n      <th>from</th>\n      <th>to</th>\n      <th>distance_km</th>\n    </tr>\n  </thead>\n  <tbody>\n    <tr>\n      <th>0</th>\n      <td>AB</td>\n      <td>AB</td>\n      <td>0.0</td>\n    </tr>\n    <tr>\n      <th>1</th>\n      <td>AB</td>\n      <td>AL</td>\n      <td>873.0</td>\n    </tr>\n    <tr>\n      <th>2</th>\n      <td>AB</td>\n      <td>B</td>\n      <td>681.0</td>\n    </tr>\n    <tr>\n      <th>3</th>\n      <td>AB</td>\n      <td>BA</td>\n      <td>1017.0</td>\n    </tr>\n    <tr>\n      <th>4</th>\n      <td>AB</td>\n      <td>BB</td>\n      <td>534.0</td>\n    </tr>\n    <tr>\n      <th>...</th>\n      <td>...</td>\n      <td>...</td>\n      <td>...</td>\n    </tr>\n    <tr>\n      <th>14636</th>\n      <td>ZE</td>\n      <td>WR</td>\n      <td>1080.0</td>\n    </tr>\n    <tr>\n      <th>14637</th>\n      <td>ZE</td>\n      <td>WS</td>\n      <td>1027.0</td>\n    </tr>\n    <tr>\n      <th>14638</th>\n      <td>ZE</td>\n      <td>WV</td>\n      <td>1020.0</td>\n    </tr>\n    <tr>\n      <th>14639</th>\n      <td>ZE</td>\n      <td>YO</td>\n      <td>899.0</td>\n    </tr>\n    <tr>\n      <th>14640</th>\n      <td>ZE</td>\n      <td>ZE</td>\n      <td>0.0</td>\n    </tr>\n  </tbody>\n</table>\n<p>14641 rows × 3 columns</p>\n</div>"
     },
     "execution_count": 67,
     "metadata": {},
     "output_type": "execute_result"
    }
   ],
   "source": [
    "travel_times = pd.read_csv('travel_times.csv')\n",
    "travel_times"
   ],
   "metadata": {
    "collapsed": false,
    "pycharm": {
     "name": "#%%\n"
    }
   }
  },
  {
   "cell_type": "code",
   "execution_count": 98,
   "outputs": [
    {
     "name": "stdout",
     "output_type": "stream",
     "text": [
      "(54799, 14)\n",
      "(54799, 19)\n",
      "(54799, 20)\n"
     ]
    }
   ],
   "source": [
    "print(placement_data.shape)\n",
    "df = placement_data.merge(carer_data, on = 'carer_id', how='left')\n",
    "print(df.shape)\n",
    "df = df.merge(travel_times, left_on = ['postcode_area_carer','postcode_area_placement'], right_on=['from','to'], how='left')\n",
    "df.drop(['from','to'], axis = 1, inplace = True)\n",
    "print(df.shape)"
   ],
   "metadata": {
    "collapsed": false,
    "pycharm": {
     "name": "#%%\n"
    }
   }
  },
  {
   "cell_type": "code",
   "execution_count": 99,
   "outputs": [
    {
     "data": {
      "text/plain": "                                         placement_ad_id        published_at  \\\n0      plad_pl_s00e2ZDNPZqM_4m3d-b7676ec4-c0c4-4a8d-8... 2021-09-30 08:42:28   \n1      plad_pl_s00e2ZDNPZqM_4m3d-b7676ec4-c0c4-4a8d-8... 2021-09-30 08:42:28   \n2      plad_pl_s00e2ZDNPZqM_4m3d-b7676ec4-c0c4-4a8d-8... 2021-09-30 08:42:28   \n3      plad_pl_s00e2ZDNPZqM_4m3d-b7676ec4-c0c4-4a8d-8... 2021-09-30 08:42:28   \n4      plad_pl_s00e2ZDNPZqM_4m3d-b7676ec4-c0c4-4a8d-8... 2021-09-30 08:42:28   \n...                                                  ...                 ...   \n54794  plad_pl_s0YNf7dGMhMt_RZZG-083e9c2e-2438-4379-b... 2021-09-30 11:31:03   \n54795  plad_pl_s0YNf7dGMhMt_RZZG-083e9c2e-2438-4379-b... 2021-09-30 11:31:03   \n54796  plad_pl_s0YNf7dGMhMt_RZZG-083e9c2e-2438-4379-b... 2021-09-30 11:31:03   \n54797  plad_pl_s0YNf7dGMhMt_RZZG-083e9c2e-2438-4379-b... 2021-09-30 11:31:03   \n54798  plad_pl_s0YNf7dGMhMt_RZZG-083e9c2e-2438-4379-b... 2021-09-30 11:31:03   \n\n         carer_id  min_provider_rate  ethnicities_at_risk_BLACK_ALL  \\\n0       p83637819              700.0                              0   \n1      p149291474              700.0                              0   \n2      p220951067              700.0                              0   \n3      p129992250              700.0                              0   \n4      p229419193              700.0                              0   \n...           ...                ...                            ...   \n54794   p83066404              700.0                              0   \n54795  p146299409              700.0                              0   \n54796   p39241355              700.0                              0   \n54797  p125708531              700.0                              0   \n54798    p2843326              700.0                              0   \n\n       max_cr_age  recipient_1_male  one_off_payments_total  has_dogs  \\\n0         92.4079                 1                     0.0         0   \n1         92.4079                 1                     0.0         0   \n2         92.4079                 1                     0.0         0   \n3         92.4079                 1                     0.0         0   \n4         92.4079                 1                     0.0         0   \n...           ...               ...                     ...       ...   \n54794     83.5729                 0                     0.0         0   \n54795     83.5729                 0                     0.0         0   \n54796     83.5729                 0                     0.0         0   \n54797     83.5729                 0                     0.0         0   \n54798     83.5729                 0                     0.0         0   \n\n       log_lead_time  ongoing  difficulty_normalised postcode_area_placement  \\\n0           3.465736        1               1.000000                      NP   \n1           3.465736        1               1.000000                      NP   \n2           3.465736        1               1.000000                      NP   \n3           3.465736        1               1.000000                      NP   \n4           3.465736        1               1.000000                      NP   \n...              ...      ...                    ...                     ...   \n54794       4.189655        0               0.693629                      GU   \n54795       4.189655        0               0.693629                      GU   \n54796       4.189655        0               0.693629                      GU   \n54797       4.189655        0               0.693629                      GU   \n54798       4.189655        0               0.693629                      GU   \n\n                                        match_request_id postcode_area_carer  \\\n0      pl_s00e2ZDNPZqM_4m3d-b7676ec4-c0c4-4a8d-8c6b-5...                  NP   \n1      pl_s00e2ZDNPZqM_4m3d-b7676ec4-c0c4-4a8d-8c6b-5...                  NP   \n2      pl_s00e2ZDNPZqM_4m3d-b7676ec4-c0c4-4a8d-8c6b-5...                  BS   \n3      pl_s00e2ZDNPZqM_4m3d-b7676ec4-c0c4-4a8d-8c6b-5...                  BS   \n4      pl_s00e2ZDNPZqM_4m3d-b7676ec4-c0c4-4a8d-8c6b-5...                  BS   \n...                                                  ...                 ...   \n54794  pl_s0YNf7dGMhMt_RZZG-083e9c2e-2438-4379-b456-f...                None   \n54795  pl_s0YNf7dGMhMt_RZZG-083e9c2e-2438-4379-b456-f...                None   \n54796  pl_s0YNf7dGMhMt_RZZG-083e9c2e-2438-4379-b456-f...                None   \n54797  pl_s0YNf7dGMhMt_RZZG-083e9c2e-2438-4379-b456-f...                None   \n54798  pl_s0YNf7dGMhMt_RZZG-083e9c2e-2438-4379-b456-f...                  MK   \n\n       log_years_on_elder  carer_gender_FEMALE  days_worked_past_90  \\\n0                0.305994                    1                    0   \n1                0.000000                    1                    8   \n2                1.110632                    1                   16   \n3                0.000000                    1                    0   \n4                0.000000                    1                   20   \n...                   ...                  ...                  ...   \n54794            1.003165                    1                    0   \n54795            0.160875                    1                    0   \n54796            0.580995                    1                   45   \n54797            0.425567                    1                    0   \n54798            0.000000                    1                   59   \n\n       apps_past_7_days  distance_km  \n0                     0          0.0  \n1                     0          0.0  \n2                     1         42.0  \n3                     4         42.0  \n4                     0         42.0  \n...                 ...          ...  \n54794                 0          NaN  \n54795                 8          NaN  \n54796                 0          NaN  \n54797                 0          NaN  \n54798                 0        131.0  \n\n[54799 rows x 20 columns]",
      "text/html": "<div>\n<style scoped>\n    .dataframe tbody tr th:only-of-type {\n        vertical-align: middle;\n    }\n\n    .dataframe tbody tr th {\n        vertical-align: top;\n    }\n\n    .dataframe thead th {\n        text-align: right;\n    }\n</style>\n<table border=\"1\" class=\"dataframe\">\n  <thead>\n    <tr style=\"text-align: right;\">\n      <th></th>\n      <th>placement_ad_id</th>\n      <th>published_at</th>\n      <th>carer_id</th>\n      <th>min_provider_rate</th>\n      <th>ethnicities_at_risk_BLACK_ALL</th>\n      <th>max_cr_age</th>\n      <th>recipient_1_male</th>\n      <th>one_off_payments_total</th>\n      <th>has_dogs</th>\n      <th>log_lead_time</th>\n      <th>ongoing</th>\n      <th>difficulty_normalised</th>\n      <th>postcode_area_placement</th>\n      <th>match_request_id</th>\n      <th>postcode_area_carer</th>\n      <th>log_years_on_elder</th>\n      <th>carer_gender_FEMALE</th>\n      <th>days_worked_past_90</th>\n      <th>apps_past_7_days</th>\n      <th>distance_km</th>\n    </tr>\n  </thead>\n  <tbody>\n    <tr>\n      <th>0</th>\n      <td>plad_pl_s00e2ZDNPZqM_4m3d-b7676ec4-c0c4-4a8d-8...</td>\n      <td>2021-09-30 08:42:28</td>\n      <td>p83637819</td>\n      <td>700.0</td>\n      <td>0</td>\n      <td>92.4079</td>\n      <td>1</td>\n      <td>0.0</td>\n      <td>0</td>\n      <td>3.465736</td>\n      <td>1</td>\n      <td>1.000000</td>\n      <td>NP</td>\n      <td>pl_s00e2ZDNPZqM_4m3d-b7676ec4-c0c4-4a8d-8c6b-5...</td>\n      <td>NP</td>\n      <td>0.305994</td>\n      <td>1</td>\n      <td>0</td>\n      <td>0</td>\n      <td>0.0</td>\n    </tr>\n    <tr>\n      <th>1</th>\n      <td>plad_pl_s00e2ZDNPZqM_4m3d-b7676ec4-c0c4-4a8d-8...</td>\n      <td>2021-09-30 08:42:28</td>\n      <td>p149291474</td>\n      <td>700.0</td>\n      <td>0</td>\n      <td>92.4079</td>\n      <td>1</td>\n      <td>0.0</td>\n      <td>0</td>\n      <td>3.465736</td>\n      <td>1</td>\n      <td>1.000000</td>\n      <td>NP</td>\n      <td>pl_s00e2ZDNPZqM_4m3d-b7676ec4-c0c4-4a8d-8c6b-5...</td>\n      <td>NP</td>\n      <td>0.000000</td>\n      <td>1</td>\n      <td>8</td>\n      <td>0</td>\n      <td>0.0</td>\n    </tr>\n    <tr>\n      <th>2</th>\n      <td>plad_pl_s00e2ZDNPZqM_4m3d-b7676ec4-c0c4-4a8d-8...</td>\n      <td>2021-09-30 08:42:28</td>\n      <td>p220951067</td>\n      <td>700.0</td>\n      <td>0</td>\n      <td>92.4079</td>\n      <td>1</td>\n      <td>0.0</td>\n      <td>0</td>\n      <td>3.465736</td>\n      <td>1</td>\n      <td>1.000000</td>\n      <td>NP</td>\n      <td>pl_s00e2ZDNPZqM_4m3d-b7676ec4-c0c4-4a8d-8c6b-5...</td>\n      <td>BS</td>\n      <td>1.110632</td>\n      <td>1</td>\n      <td>16</td>\n      <td>1</td>\n      <td>42.0</td>\n    </tr>\n    <tr>\n      <th>3</th>\n      <td>plad_pl_s00e2ZDNPZqM_4m3d-b7676ec4-c0c4-4a8d-8...</td>\n      <td>2021-09-30 08:42:28</td>\n      <td>p129992250</td>\n      <td>700.0</td>\n      <td>0</td>\n      <td>92.4079</td>\n      <td>1</td>\n      <td>0.0</td>\n      <td>0</td>\n      <td>3.465736</td>\n      <td>1</td>\n      <td>1.000000</td>\n      <td>NP</td>\n      <td>pl_s00e2ZDNPZqM_4m3d-b7676ec4-c0c4-4a8d-8c6b-5...</td>\n      <td>BS</td>\n      <td>0.000000</td>\n      <td>1</td>\n      <td>0</td>\n      <td>4</td>\n      <td>42.0</td>\n    </tr>\n    <tr>\n      <th>4</th>\n      <td>plad_pl_s00e2ZDNPZqM_4m3d-b7676ec4-c0c4-4a8d-8...</td>\n      <td>2021-09-30 08:42:28</td>\n      <td>p229419193</td>\n      <td>700.0</td>\n      <td>0</td>\n      <td>92.4079</td>\n      <td>1</td>\n      <td>0.0</td>\n      <td>0</td>\n      <td>3.465736</td>\n      <td>1</td>\n      <td>1.000000</td>\n      <td>NP</td>\n      <td>pl_s00e2ZDNPZqM_4m3d-b7676ec4-c0c4-4a8d-8c6b-5...</td>\n      <td>BS</td>\n      <td>0.000000</td>\n      <td>1</td>\n      <td>20</td>\n      <td>0</td>\n      <td>42.0</td>\n    </tr>\n    <tr>\n      <th>...</th>\n      <td>...</td>\n      <td>...</td>\n      <td>...</td>\n      <td>...</td>\n      <td>...</td>\n      <td>...</td>\n      <td>...</td>\n      <td>...</td>\n      <td>...</td>\n      <td>...</td>\n      <td>...</td>\n      <td>...</td>\n      <td>...</td>\n      <td>...</td>\n      <td>...</td>\n      <td>...</td>\n      <td>...</td>\n      <td>...</td>\n      <td>...</td>\n      <td>...</td>\n    </tr>\n    <tr>\n      <th>54794</th>\n      <td>plad_pl_s0YNf7dGMhMt_RZZG-083e9c2e-2438-4379-b...</td>\n      <td>2021-09-30 11:31:03</td>\n      <td>p83066404</td>\n      <td>700.0</td>\n      <td>0</td>\n      <td>83.5729</td>\n      <td>0</td>\n      <td>0.0</td>\n      <td>0</td>\n      <td>4.189655</td>\n      <td>0</td>\n      <td>0.693629</td>\n      <td>GU</td>\n      <td>pl_s0YNf7dGMhMt_RZZG-083e9c2e-2438-4379-b456-f...</td>\n      <td>None</td>\n      <td>1.003165</td>\n      <td>1</td>\n      <td>0</td>\n      <td>0</td>\n      <td>NaN</td>\n    </tr>\n    <tr>\n      <th>54795</th>\n      <td>plad_pl_s0YNf7dGMhMt_RZZG-083e9c2e-2438-4379-b...</td>\n      <td>2021-09-30 11:31:03</td>\n      <td>p146299409</td>\n      <td>700.0</td>\n      <td>0</td>\n      <td>83.5729</td>\n      <td>0</td>\n      <td>0.0</td>\n      <td>0</td>\n      <td>4.189655</td>\n      <td>0</td>\n      <td>0.693629</td>\n      <td>GU</td>\n      <td>pl_s0YNf7dGMhMt_RZZG-083e9c2e-2438-4379-b456-f...</td>\n      <td>None</td>\n      <td>0.160875</td>\n      <td>1</td>\n      <td>0</td>\n      <td>8</td>\n      <td>NaN</td>\n    </tr>\n    <tr>\n      <th>54796</th>\n      <td>plad_pl_s0YNf7dGMhMt_RZZG-083e9c2e-2438-4379-b...</td>\n      <td>2021-09-30 11:31:03</td>\n      <td>p39241355</td>\n      <td>700.0</td>\n      <td>0</td>\n      <td>83.5729</td>\n      <td>0</td>\n      <td>0.0</td>\n      <td>0</td>\n      <td>4.189655</td>\n      <td>0</td>\n      <td>0.693629</td>\n      <td>GU</td>\n      <td>pl_s0YNf7dGMhMt_RZZG-083e9c2e-2438-4379-b456-f...</td>\n      <td>None</td>\n      <td>0.580995</td>\n      <td>1</td>\n      <td>45</td>\n      <td>0</td>\n      <td>NaN</td>\n    </tr>\n    <tr>\n      <th>54797</th>\n      <td>plad_pl_s0YNf7dGMhMt_RZZG-083e9c2e-2438-4379-b...</td>\n      <td>2021-09-30 11:31:03</td>\n      <td>p125708531</td>\n      <td>700.0</td>\n      <td>0</td>\n      <td>83.5729</td>\n      <td>0</td>\n      <td>0.0</td>\n      <td>0</td>\n      <td>4.189655</td>\n      <td>0</td>\n      <td>0.693629</td>\n      <td>GU</td>\n      <td>pl_s0YNf7dGMhMt_RZZG-083e9c2e-2438-4379-b456-f...</td>\n      <td>None</td>\n      <td>0.425567</td>\n      <td>1</td>\n      <td>0</td>\n      <td>0</td>\n      <td>NaN</td>\n    </tr>\n    <tr>\n      <th>54798</th>\n      <td>plad_pl_s0YNf7dGMhMt_RZZG-083e9c2e-2438-4379-b...</td>\n      <td>2021-09-30 11:31:03</td>\n      <td>p2843326</td>\n      <td>700.0</td>\n      <td>0</td>\n      <td>83.5729</td>\n      <td>0</td>\n      <td>0.0</td>\n      <td>0</td>\n      <td>4.189655</td>\n      <td>0</td>\n      <td>0.693629</td>\n      <td>GU</td>\n      <td>pl_s0YNf7dGMhMt_RZZG-083e9c2e-2438-4379-b456-f...</td>\n      <td>MK</td>\n      <td>0.000000</td>\n      <td>1</td>\n      <td>59</td>\n      <td>0</td>\n      <td>131.0</td>\n    </tr>\n  </tbody>\n</table>\n<p>54799 rows × 20 columns</p>\n</div>"
     },
     "execution_count": 99,
     "metadata": {},
     "output_type": "execute_result"
    }
   ],
   "source": [
    "# keep non-missing\n",
    "f_predictors = [\n",
    "'difficulty_normalised','grouped_days_worked_past_90','grouped_apps_past_7_days',\n",
    "'carer_gender_FEMALE','log_lead_time','distance_km',\n",
    "'has_dogs','log_years_on_elder', 'max_cr_age',\n",
    " 'min_provider_rate','ethnicities_at_risk_BLACK_ALL', 'ongoing', 'recipient_1_male',\n",
    "    'one_off_payments_total',\n",
    "\n",
    "]"
   ],
   "metadata": {
    "collapsed": false,
    "pycharm": {
     "name": "#%%\n"
    }
   }
  },
  {
   "cell_type": "code",
   "execution_count": null,
   "outputs": [],
   "source": [
    "def "
   ],
   "metadata": {
    "collapsed": false,
    "pycharm": {
     "name": "#%%\n"
    }
   }
  }
 ],
 "metadata": {
  "kernelspec": {
   "display_name": "Python 3",
   "language": "python",
   "name": "python3"
  },
  "language_info": {
   "codemirror_mode": {
    "name": "ipython",
    "version": 2
   },
   "file_extension": ".py",
   "mimetype": "text/x-python",
   "name": "python",
   "nbconvert_exporter": "python",
   "pygments_lexer": "ipython2",
   "version": "2.7.6"
  }
 },
 "nbformat": 4,
 "nbformat_minor": 0
}