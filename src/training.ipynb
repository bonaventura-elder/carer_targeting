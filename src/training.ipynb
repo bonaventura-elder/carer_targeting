{
 "cells": [
  {
   "cell_type": "code",
   "execution_count": null,
   "metadata": {
    "collapsed": false,
    "pycharm": {
     "name": "#%%\n"
    }
   },
   "outputs": [],
   "source": [
    "import pandas as pd\n",
    "import numpy as np\n",
    "import seaborn as sns\n",
    "import os\n",
    "from datetime import timedelta, date, datetime\n",
    "from sqlalchemy.types import NVARCHAR, DATE, FLOAT, VARCHAR, DATETIME\n",
    "from sklearn.linear_model import LogisticRegression\n",
    "from sklearn.metrics import make_scorer\n",
    "from sklearn.metrics import roc_auc_score, confusion_matrix, plot_roc_curve,\\\n",
    "    plot_confusion_matrix, recall_score, precision_score, accuracy_score\n",
    "\n",
    "from helpers import *\n",
    "\n",
    "data_dir = \"../data\"\n",
    "\n",
    "sns.set_style('whitegrid')\n",
    "\n"
   ]
  },
  {
   "cell_type": "markdown",
   "metadata": {
    "collapsed": false
   },
   "source": [
    "## Feature extraction"
   ]
  },
  {
   "cell_type": "code",
   "execution_count": null,
   "metadata": {
    "collapsed": false,
    "pycharm": {
     "name": "#%%\n"
    }
   },
   "outputs": [],
   "source": [
    "from sqlalchemy import create_engine\n",
    "\n",
    "import pandas as pd\n",
    "import config\n",
    "from sql_queries import *\n",
    "\n",
    "engine = create_engine(\n",
    "    f\"mysql+pymysql://{config.sql_credentials['user']}:{config.sql_credentials['password']}@{config.sql_credentials['host']}:{config.sql_credentials['port']}/{config.sql_credentials['db']}\",\n",
    "    pool_pre_ping=True)\n",
    "\n",
    "conn = engine.connect()\n",
    "#\n",
    "# print(datetime.now())\n",
    "# login_data = pd.read_sql(login_query, conn)\n",
    "# print(datetime.now())\n",
    "# dist_data = pd.read_sql(dist_query, conn)\n",
    "# print(datetime.now())\n",
    "# prefs_data = pd.read_sql(prefs_query, conn)\n",
    "# print(datetime.now())\n",
    "# training_data = pd.read_sql(training_query, conn)\n",
    "# print(datetime.now())\n",
    "# worked_data = pd.read_sql(worked_query, conn)\n",
    "# print(datetime.now())\n",
    "#\n",
    "# login_data.to_csv('../data/login_data.csv', index = False)\n",
    "# dist_data.to_csv('../data/dist_data.csv', index = False)\n",
    "# worked_data.to_csv('../data/worked_data.csv', index = False)\n",
    "# prefs_data.to_csv('../data/prefs_data_v2.csv', index = False)\n",
    "# training_data.to_csv('../data/training_data_v2.csv', index = False)\n",
    "\n",
    "\n",
    "prefs_data = pd.read_sql(prefs_query, conn)\n",
    "prefs_data.to_csv('../data/prefs_data_v2.csv', index = False)"
   ]
  },
  {
   "cell_type": "markdown",
   "metadata": {
    "collapsed": false
   },
   "source": [
    "## Feature engineering"
   ]
  },
  {
   "cell_type": "code",
   "execution_count": null,
   "metadata": {
    "collapsed": false,
    "pycharm": {
     "name": "#%%\n"
    }
   },
   "outputs": [],
   "source": [
    "login_data = pd.read_csv('../data/login_data.csv')\n",
    "dist_data = pd.read_csv('../data/dist_data.csv')\n",
    "worked_data = pd.read_csv('../data/worked_data.csv')\n",
    "prefs_data = pd.read_csv('../data/prefs_data_v2.csv')\n",
    "training_data = pd.read_csv('../data/training_data_v2.csv')\n"
   ]
  },
  {
   "cell_type": "code",
   "execution_count": null,
   "metadata": {
    "collapsed": false,
    "pycharm": {
     "name": "#%%\n"
    }
   },
   "outputs": [],
   "source": [
    "print(training_data.shape)\n",
    "all_data = training_data.merge(login_data, how='left', on = ['placement_ad_id','carer_id','sent_at'])\n",
    "print(all_data.shape)\n",
    "all_data = all_data.merge(prefs_data, how='left', on = ['placement_ad_id','carer_id','sent_at'])\n",
    "print(all_data.shape)\n",
    "all_data = all_data.merge(dist_data, how='left', on = ['placement_ad_id','carer_id','sent_at'])\n",
    "print(all_data.shape)\n",
    "all_data = all_data.merge(worked_data, how='left', on = ['placement_ad_id','carer_id','sent_at'])\n",
    "print(all_data.shape)\n",
    "\n",
    "all_data.drop_duplicates(subset=['placement_ad_id','carer_id','sent_at'], inplace = True)\n",
    "print(all_data.shape)"
   ]
  },
  {
   "cell_type": "code",
   "execution_count": null,
   "metadata": {
    "collapsed": false,
    "pycharm": {
     "name": "#%%\n"
    }
   },
   "outputs": [],
   "source": [
    "all_data.columns"
   ]
  },
  {
   "cell_type": "code",
   "execution_count": null,
   "metadata": {
    "collapsed": false,
    "pycharm": {
     "name": "#%%\n"
    }
   },
   "outputs": [],
   "source": [
    "all_data.carer_age.isna().sum()"
   ]
  },
  {
   "cell_type": "code",
   "execution_count": null,
   "metadata": {
    "collapsed": false,
    "pycharm": {
     "name": "#%%\n"
    }
   },
   "outputs": [],
   "source": [
    "all_data['carer_applied_in_8hrs'].value_counts()"
   ]
  },
  {
   "cell_type": "code",
   "execution_count": null,
   "metadata": {
    "collapsed": false,
    "pycharm": {
     "name": "#%%\n"
    }
   },
   "outputs": [],
   "source": [
    "target = 'carer_applied_in_8hrs'\n",
    "\n",
    "X1 = all_data.loc[all_data['carer_applied_in_8hrs']==1]\n",
    "X0 = all_data.loc[all_data['carer_applied_in_8hrs']==0].sample(frac=0.01, random_state=1992)\n",
    "\n",
    "df = pd.concat([X1,X0], axis = 0)\n",
    "df"
   ]
  },
  {
   "cell_type": "code",
   "execution_count": null,
   "metadata": {
    "collapsed": false,
    "pycharm": {
     "name": "#%%\n"
    }
   },
   "outputs": [],
   "source": [
    "pd.get_dummies(df['sms_type'],drop_first=True)\n",
    "df.columns"
   ]
  },
  {
   "cell_type": "markdown",
   "metadata": {
    "collapsed": false
   },
   "source": [
    "## Feature selection"
   ]
  },
  {
   "cell_type": "code",
   "execution_count": null,
   "metadata": {
    "collapsed": false,
    "pycharm": {
     "name": "#%%\n"
    }
   },
   "outputs": [],
   "source": [
    "predictors = ['lead_time', 'min_provider_rate',\n",
    "       'ongoing', 'min_provider_rate', 'one_off_payments_total',\n",
    "       'licence_needed', 'car_needed', 'moving_handling', 'dementia',\n",
    "       'mental_health_issues', 'hoist', 'parkinsons', 'stroke', 'alzheimers',\n",
    "       'stoma', 'diabetes', 'peg', 'has_wifi', 'smoking', 'has_pets',\n",
    "       'has_two_crs']\n",
    "X_train, X_eval, y_train, y_eval = split_train_test(df,predictors,target, test_size=0.15)"
   ]
  },
  {
   "cell_type": "code",
   "execution_count": null,
   "metadata": {
    "collapsed": false,
    "pycharm": {
     "name": "#%%\n"
    }
   },
   "outputs": [],
   "source": [
    "model = LogisticRegression()\n"
   ]
  },
  {
   "cell_type": "code",
   "execution_count": null,
   "metadata": {
    "collapsed": false,
    "pycharm": {
     "name": "#%%\n"
    }
   },
   "outputs": [],
   "source": [
    "n_features =8\n",
    "X = X_train\n",
    "y = np.ravel(y_train)\n",
    "\n",
    "recall_scorer = make_scorer(recall_score, greater_is_better=True)\n",
    "results = select_features(model, n_features, y, X,scoring=recall_scorer)"
   ]
  },
  {
   "cell_type": "code",
   "execution_count": null,
   "metadata": {
    "collapsed": false,
    "pycharm": {
     "name": "#%%\n"
    }
   },
   "outputs": [],
   "source": [
    "f_predictors = list(set(sum(list(results.loc[results.cv_score == results.cv_score.max()]['features']), [])))"
   ]
  },
  {
   "cell_type": "code",
   "execution_count": null,
   "metadata": {
    "collapsed": false,
    "pycharm": {
     "name": "#%%\n"
    }
   },
   "outputs": [],
   "source": [
    "heat_list = f_predictors + [target]\n",
    "\n",
    "fig, ax = plt.subplots(1, 2, figsize=(25, 8))\n",
    "\n",
    "sns.lineplot(x=range(1, n_features), y=results['cv_score'], ax = ax[0], linewidth = 3)\n",
    "sns.heatmap(training_data[heat_list].corr(), cmap='Blues', annot=True, ax = ax[1])"
   ]
  },
  {
   "cell_type": "markdown",
   "metadata": {
    "collapsed": false
   },
   "source": [
    "## Model performance"
   ]
  },
  {
   "cell_type": "markdown",
   "metadata": {
    "collapsed": false
   },
   "source": [
    "### Baseline"
   ]
  },
  {
   "cell_type": "code",
   "execution_count": null,
   "metadata": {
    "collapsed": false,
    "pycharm": {
     "name": "#%%\n"
    }
   },
   "outputs": [],
   "source": [
    "model.fit(X_train[f_predictors], y)"
   ]
  },
  {
   "cell_type": "code",
   "execution_count": null,
   "metadata": {
    "collapsed": false,
    "pycharm": {
     "name": "#%%\n"
    }
   },
   "outputs": [],
   "source": [
    "preds = model.predict(X_eval[f_predictors])\n",
    "print(f'Precision is {precision_score(y_eval,preds)}, recall is {recall_score(y_eval,preds)}, accuracy is {accuracy_score(y_eval,preds)}')"
   ]
  },
  {
   "cell_type": "markdown",
   "metadata": {
    "collapsed": false
   },
   "source": [
    "On a balanced sample (around 50% each applied/not applied), the model does a fair job at classifying positive examples\n",
    "correctly, showing an accuracy of 58.4% together with a recall score of 61.2% on the evaluation set (not used for FS)"
   ]
  },
  {
   "cell_type": "code",
   "execution_count": null,
   "metadata": {
    "collapsed": false,
    "pycharm": {
     "name": "#%%\n"
    }
   },
   "outputs": [],
   "source": [
    "plot_confusion_matrix(model,X_eval[f_predictors],y_eval)"
   ]
  },
  {
   "cell_type": "markdown",
   "metadata": {
    "collapsed": false
   },
   "source": [
    "Feature predictive importance is line with expectations,bonuses possibly reflecting location"
   ]
  },
  {
   "cell_type": "code",
   "execution_count": null,
   "metadata": {
    "collapsed": false,
    "pycharm": {
     "name": "#%%\n"
    }
   },
   "outputs": [],
   "source": [
    "plot_shap_metrics(model,df,predictors,target)"
   ]
  },
  {
   "cell_type": "markdown",
   "metadata": {
    "collapsed": false
   },
   "source": [
    "### Including soft preferences\n",
    "\n",
    "\n",
    "\n"
   ]
  },
  {
   "cell_type": "code",
   "execution_count": null,
   "metadata": {
    "collapsed": false,
    "pycharm": {
     "is_executing": true,
     "name": "#%%\n"
    }
   },
   "outputs": [],
   "source": [
    "<<<<<<< REMOTE CELL DELETED >>>>>>>\n",
    "import pandas as pd\n",
    "import numpy as np\n",
    "import seaborn as sns\n",
    "import os\n",
    "from datetime import timedelta, date, datetime\n",
    "from sqlalchemy import create_engine\n",
    "from sqlalchemy.types import NVARCHAR, DATE, FLOAT, VARCHAR, DATETIME\n",
    "from sklearn.linear_model import LogisticRegression\n",
    "from sklearn.metrics import make_scorer\n",
    "from sklearn.metrics import roc_auc_score, confusion_matrix, plot_roc_curve,\\\n",
    "    plot_confusion_matrix, recall_score, precision_score, accuracy_score\n",
    "\n",
    "\n",
    "import config\n",
    "from sql_queries import *\n",
    "from helpers import *\n",
    "\n",
    "data_dir = \"data\"\n",
    "\n",
    "engine = create_engine(\n",
    "    f\"mysql+pymysql://{config.sql_credentials['user']}:{config.sql_credentials['password']}@{config.sql_credentials['host']}:{config.sql_credentials['port']}/{config.sql_credentials['db']}\",\n",
    "    pool_pre_ping=True)\n",
    "\n",
    "conn = engine.connect()\n",
    "\n",
    "sns.set_style('whitegrid')\n"
   ]
  },
  {
   "cell_type": "code",
   "execution_count": 44,
   "metadata": {
    "collapsed": false,
    "pycharm": {
     "name": "#%%\n"
    }
   },
   "outputs": [],
   "source": [
    "# print(datetime.now())\n",
    "# login_data = pd.read_sql(login_query, conn)\n",
    "# print(datetime.now())\n",
    "# dist_data = pd.read_sql(dist_query, conn)\n",
    "# print(datetime.now())\n",
    "# prefs_data = pd.read_sql(prefs_query, conn)\n",
    "# print(datetime.now())\n",
    "# training_data = pd.read_sql(training_query, conn)\n",
    "# print(datetime.now())\n",
    "# worked_data = pd.read_sql(worked_query, conn)\n",
    "# print(datetime.now())\n",
    "\n",
    "login_data = pd.read_csv('../data/login_data.csv')\n",
    "dist_data = pd.read_csv('../data/dist_data.csv')\n",
    "worked_data = pd.read_csv('../data/worked_data.csv')\n",
    "prefs_data = pd.read_csv('../data/prefs_data_v2.csv')\n",
    "training_data = pd.read_csv('../data/training_data_v2.csv')\n",
    "\n"
   ]
  },
  {
   "cell_type": "code",
   "execution_count": 58,
   "metadata": {
    "collapsed": false,
    "pycharm": {
     "name": "#%%\n"
    }
   },
   "outputs": [
    {
     "name": "stdout",
     "output_type": "stream",
     "text": [
      "(1963934, 36)\n",
      "(1965009, 40)\n",
      "(1965009, 53)\n",
      "(1965009, 54)\n",
      "(1965009, 58)\n",
      "(1963934, 58)\n"
     ]
    }
   ],
   "source": [
    "print(training_data.shape)\n",
    "all_data = training_data.merge(login_data, how='left', on = ['placement_ad_id','carer_id','sent_at'])\n",
    "print(all_data.shape)\n",
    "all_data = all_data.merge(prefs_data, how='left', on = ['placement_ad_id','carer_id','sent_at'])\n",
    "print(all_data.shape)\n",
    "all_data = all_data.merge(dist_data, how='left', on = ['placement_ad_id','carer_id','sent_at'])\n",
    "print(all_data.shape)\n",
    "all_data = all_data.merge(worked_data, how='left', on = ['placement_ad_id','carer_id','sent_at'])\n",
    "print(all_data.shape)\n",
    "\n",
    "all_data.drop_duplicates(subset=['placement_ad_id','carer_id','sent_at'], inplace = True)\n",
    "print(all_data.shape)"
   ]
  },
  {
   "cell_type": "code",
   "execution_count": 47,
   "metadata": {
    "collapsed": false,
    "pycharm": {
     "name": "#%%\n"
    }
   },
   "outputs": [
    {
     "data": {
      "text/plain": [
       "Index(['Unnamed: 0', 'placement_ad_id', 'match_request_id_x', 'carer_id',\n",
       "       'sent_at', 'updated_at', 'sms_type', 'carer_applied_in_8hrs_x',\n",
       "       'lead_time', 'ongoing', 'min_provider_rate', 'one_off_payments_total',\n",
       "       'licence_needed', 'car_needed', 'moving_handling', 'dementia',\n",
       "       'mental_health_issues', 'hoist', 'parkinsons', 'stroke', 'alzheimers',\n",
       "       'stoma', 'diabetes', 'peg', 'has_wifi', 'smoking', 'has_pets',\n",
       "       'has_two_crs', 'max_cr_age', 'recipient_1_male',\n",
       "       'ethnicities_at_risk_WHITE_ALL', 'ethnicities_at_risk_MIXED_ALL',\n",
       "       'ethnicities_at_risk_BLACK_ALL', 'ethnicities_at_risk_ASIAN_ALL',\n",
       "       'ethnicities_at_risk_ARAB_ALL', 'latitude', 'longitude',\n",
       "       'match_request_id_y', 'timestamp', 'carer_logged_in_7_days',\n",
       "       'carer_applied_in_8hrs_y', 'carer_logged_in_7_days_n', 'set_at',\n",
       "       'ethnicityExclusion_ARAB_ALL', 'ethnicityExclusion_ASIAN_ALL',\n",
       "       'ethnicityExclusion_BLACK_ALL', 'ethnicityExclusion_MIXED_ALL',\n",
       "       'ethnicityExclusion_WHITE_ALL', 'genderExclusion_MALE',\n",
       "       'maxDistance_50', 'maxDistance_100', 'maxDistance_400',\n",
       "       'petsExclusion_CATS', 'petsExclusion_DOGS',\n",
       "       'recipientNumberExclusion_2CRs', 'distance_km', 'match_request_id',\n",
       "       'start_date_time', 'carer_worked_in_7_days', 'carer_worked_in_30_days'],\n",
       "      dtype='object')"
      ]
     },
     "execution_count": 47,
     "metadata": {},
     "output_type": "execute_result"
    }
   ],
   "source": [
    "all_data.columns"
   ]
  },
  {
   "cell_type": "code",
   "execution_count": 51,
   "metadata": {
    "collapsed": false,
    "pycharm": {
     "name": "#%%\n"
    }
   },
   "outputs": [
    {
     "data": {
      "text/plain": [
       "0    1946862\n",
       "1      17072\n",
       "Name: carer_applied_in_8hrs, dtype: int64"
      ]
     },
     "execution_count": 51,
     "metadata": {},
     "output_type": "execute_result"
    }
   ],
   "source": [
    "all_data['carer_applied_in_8hrs'].value_counts()"
   ]
  },
  {
   "cell_type": "code",
   "execution_count": 59,
   "metadata": {
    "collapsed": false,
    "pycharm": {
     "name": "#%%\n"
    }
   },
   "outputs": [
    {
     "data": {
      "text/html": [
       "<div>\n",
       "<style scoped>\n",
       "    .dataframe tbody tr th:only-of-type {\n",
       "        vertical-align: middle;\n",
       "    }\n",
       "\n",
       "    .dataframe tbody tr th {\n",
       "        vertical-align: top;\n",
       "    }\n",
       "\n",
       "    .dataframe thead th {\n",
       "        text-align: right;\n",
       "    }\n",
       "</style>\n",
       "<table border=\"1\" class=\"dataframe\">\n",
       "  <thead>\n",
       "    <tr style=\"text-align: right;\">\n",
       "      <th></th>\n",
       "      <th>placement_ad_id</th>\n",
       "      <th>match_request_id_x</th>\n",
       "      <th>carer_id</th>\n",
       "      <th>sent_at</th>\n",
       "      <th>updated_at</th>\n",
       "      <th>sms_type</th>\n",
       "      <th>carer_applied_in_8hrs</th>\n",
       "      <th>lead_time</th>\n",
       "      <th>ongoing</th>\n",
       "      <th>min_provider_rate</th>\n",
       "      <th>...</th>\n",
       "      <th>maxDistance_100</th>\n",
       "      <th>maxDistance_400</th>\n",
       "      <th>petsExclusion_CATS</th>\n",
       "      <th>petsExclusion_DOGS</th>\n",
       "      <th>recipientNumberExclusion_2CRs</th>\n",
       "      <th>distance_km</th>\n",
       "      <th>match_request_id</th>\n",
       "      <th>start_date_time</th>\n",
       "      <th>carer_worked_in_7_days</th>\n",
       "      <th>carer_worked_in_30_days</th>\n",
       "    </tr>\n",
       "  </thead>\n",
       "  <tbody>\n",
       "    <tr>\n",
       "      <th>17</th>\n",
       "      <td>plad_pl_s062kkx0J0QL_j4cB-d1dabaa0-acbb-4dc1-9...</td>\n",
       "      <td>pl_s062kkx0J0QL_j4cB-d1dabaa0-acbb-4dc1-9754-c...</td>\n",
       "      <td>p100093502</td>\n",
       "      <td>2021-08-17 11:29:26</td>\n",
       "      <td>2021-08-17 11:28:26</td>\n",
       "      <td>initialPromotionSent</td>\n",
       "      <td>1</td>\n",
       "      <td>34</td>\n",
       "      <td>1</td>\n",
       "      <td>700.0</td>\n",
       "      <td>...</td>\n",
       "      <td>0.0</td>\n",
       "      <td>0.0</td>\n",
       "      <td>0.0</td>\n",
       "      <td>0.0</td>\n",
       "      <td>0.0</td>\n",
       "      <td>64.0</td>\n",
       "      <td>pl_s062kkx0J0QL_j4cB-d1dabaa0-acbb-4dc1-9754-c...</td>\n",
       "      <td>2021-08-15 00:00:00</td>\n",
       "      <td>1.0</td>\n",
       "      <td>1.0</td>\n",
       "    </tr>\n",
       "    <tr>\n",
       "      <th>25</th>\n",
       "      <td>plad_pl_s01HFZJkHmIL_4BaD-19e7269b-1f1e-4281-a...</td>\n",
       "      <td>pl_s01HFZJkHmIL_4BaD-19e7269b-1f1e-4281-a4c1-2...</td>\n",
       "      <td>p100139148</td>\n",
       "      <td>2019-12-30 11:44:46</td>\n",
       "      <td>2019-12-30 11:36:45</td>\n",
       "      <td>initialPromotionSent</td>\n",
       "      <td>1</td>\n",
       "      <td>7</td>\n",
       "      <td>0</td>\n",
       "      <td>550.0</td>\n",
       "      <td>...</td>\n",
       "      <td>0.0</td>\n",
       "      <td>0.0</td>\n",
       "      <td>0.0</td>\n",
       "      <td>0.0</td>\n",
       "      <td>0.0</td>\n",
       "      <td>346.0</td>\n",
       "      <td>pl_s01HFZJkHmIL_4BaD-19e7269b-1f1e-4281-a4c1-2...</td>\n",
       "      <td>2019-12-30 00:00:00</td>\n",
       "      <td>1.0</td>\n",
       "      <td>1.0</td>\n",
       "    </tr>\n",
       "    <tr>\n",
       "      <th>73</th>\n",
       "      <td>plad_pl_s0SmL39RWSVK_buQY-7a0c3a05-036b-453c-8...</td>\n",
       "      <td>pl_s0SmL39RWSVK_buQY-7a0c3a05-036b-453c-8ed6-8...</td>\n",
       "      <td>p100139148</td>\n",
       "      <td>2020-02-07 16:44:36</td>\n",
       "      <td>2020-02-07 16:36:02</td>\n",
       "      <td>initialPromotionSent</td>\n",
       "      <td>1</td>\n",
       "      <td>4</td>\n",
       "      <td>1</td>\n",
       "      <td>550.0</td>\n",
       "      <td>...</td>\n",
       "      <td>0.0</td>\n",
       "      <td>0.0</td>\n",
       "      <td>0.0</td>\n",
       "      <td>0.0</td>\n",
       "      <td>0.0</td>\n",
       "      <td>8.0</td>\n",
       "      <td>pl_s0SmL39RWSVK_buQY-7a0c3a05-036b-453c-8ed6-8...</td>\n",
       "      <td>2020-01-12 00:00:00</td>\n",
       "      <td>0.0</td>\n",
       "      <td>1.0</td>\n",
       "    </tr>\n",
       "    <tr>\n",
       "      <th>134</th>\n",
       "      <td>plad_pl_s0cCuetHrFmd_00QZ-dd9a0882-3ea3-4362-8...</td>\n",
       "      <td>pl_s0cCuetHrFmd_00QZ-dd9a0882-3ea3-4362-8c3c-a...</td>\n",
       "      <td>p100146905</td>\n",
       "      <td>2021-07-02 16:17:30</td>\n",
       "      <td>2021-07-02 16:08:38</td>\n",
       "      <td>initialPromotionSent</td>\n",
       "      <td>1</td>\n",
       "      <td>5</td>\n",
       "      <td>0</td>\n",
       "      <td>600.0</td>\n",
       "      <td>...</td>\n",
       "      <td>1.0</td>\n",
       "      <td>0.0</td>\n",
       "      <td>0.0</td>\n",
       "      <td>0.0</td>\n",
       "      <td>0.0</td>\n",
       "      <td>417.0</td>\n",
       "      <td>NaN</td>\n",
       "      <td>NaN</td>\n",
       "      <td>NaN</td>\n",
       "      <td>NaN</td>\n",
       "    </tr>\n",
       "    <tr>\n",
       "      <th>388</th>\n",
       "      <td>plad_pl_s063CSCZAYUm_4jbo-e89250f1-628c-4d24-a...</td>\n",
       "      <td>pl_s063CSCZAYUm_4jbo-e89250f1-628c-4d24-a59b-a...</td>\n",
       "      <td>p100481747</td>\n",
       "      <td>2020-08-17 11:45:35</td>\n",
       "      <td>2020-08-17 11:28:30</td>\n",
       "      <td>initialPromotionSent</td>\n",
       "      <td>1</td>\n",
       "      <td>7</td>\n",
       "      <td>1</td>\n",
       "      <td>650.0</td>\n",
       "      <td>...</td>\n",
       "      <td>0.0</td>\n",
       "      <td>1.0</td>\n",
       "      <td>0.0</td>\n",
       "      <td>0.0</td>\n",
       "      <td>0.0</td>\n",
       "      <td>421.0</td>\n",
       "      <td>pl_s063CSCZAYUm_4jbo-e89250f1-628c-4d24-a59b-a...</td>\n",
       "      <td>2020-02-20 00:00:00</td>\n",
       "      <td>0.0</td>\n",
       "      <td>0.0</td>\n",
       "    </tr>\n",
       "    <tr>\n",
       "      <th>...</th>\n",
       "      <td>...</td>\n",
       "      <td>...</td>\n",
       "      <td>...</td>\n",
       "      <td>...</td>\n",
       "      <td>...</td>\n",
       "      <td>...</td>\n",
       "      <td>...</td>\n",
       "      <td>...</td>\n",
       "      <td>...</td>\n",
       "      <td>...</td>\n",
       "      <td>...</td>\n",
       "      <td>...</td>\n",
       "      <td>...</td>\n",
       "      <td>...</td>\n",
       "      <td>...</td>\n",
       "      <td>...</td>\n",
       "      <td>...</td>\n",
       "      <td>...</td>\n",
       "      <td>...</td>\n",
       "      <td>...</td>\n",
       "      <td>...</td>\n",
       "    </tr>\n",
       "    <tr>\n",
       "      <th>131170</th>\n",
       "      <td>plad_pl_s09QdFo1CltW_eAaK-3ffc5d20-ce6a-450a-a...</td>\n",
       "      <td>pl_s09QdFo1CltW_eAaK-3ffc5d20-ce6a-450a-a6de-9...</td>\n",
       "      <td>p31255939</td>\n",
       "      <td>2020-07-20 08:29:12</td>\n",
       "      <td>2020-07-20 08:16:49</td>\n",
       "      <td>initialPromotionSent</td>\n",
       "      <td>0</td>\n",
       "      <td>38</td>\n",
       "      <td>0</td>\n",
       "      <td>550.0</td>\n",
       "      <td>...</td>\n",
       "      <td>0.0</td>\n",
       "      <td>0.0</td>\n",
       "      <td>0.0</td>\n",
       "      <td>0.0</td>\n",
       "      <td>0.0</td>\n",
       "      <td>28.0</td>\n",
       "      <td>pl_s09QdFo1CltW_eAaK-3ffc5d20-ce6a-450a-a6de-9...</td>\n",
       "      <td>2018-11-04 00:00:00</td>\n",
       "      <td>0.0</td>\n",
       "      <td>0.0</td>\n",
       "    </tr>\n",
       "    <tr>\n",
       "      <th>601313</th>\n",
       "      <td>plad_pl_s077WJUjMkIp_s7w9-5598db67-40bb-4e8b-b...</td>\n",
       "      <td>pl_s077WJUjMkIp_s7w9-5598db67-40bb-4e8b-b449-b...</td>\n",
       "      <td>p200759391</td>\n",
       "      <td>2021-04-01 08:10:17</td>\n",
       "      <td>2021-03-31 19:45:31</td>\n",
       "      <td>urgentMatchSent</td>\n",
       "      <td>0</td>\n",
       "      <td>2</td>\n",
       "      <td>0</td>\n",
       "      <td>560.0</td>\n",
       "      <td>...</td>\n",
       "      <td>0.0</td>\n",
       "      <td>1.0</td>\n",
       "      <td>0.0</td>\n",
       "      <td>0.0</td>\n",
       "      <td>0.0</td>\n",
       "      <td>19.0</td>\n",
       "      <td>pl_s077WJUjMkIp_s7w9-5598db67-40bb-4e8b-b449-b...</td>\n",
       "      <td>2020-07-31 00:00:00</td>\n",
       "      <td>0.0</td>\n",
       "      <td>0.0</td>\n",
       "    </tr>\n",
       "    <tr>\n",
       "      <th>674932</th>\n",
       "      <td>plad_pl_s0htWb5YPVxk_jodF-dd134fc0-ae96-4b4c-9...</td>\n",
       "      <td>pl_s0htWb5YPVxk_jodF-dd134fc0-ae96-4b4c-922f-4...</td>\n",
       "      <td>p250890990</td>\n",
       "      <td>2020-09-30 10:11:04</td>\n",
       "      <td>2020-09-30 10:05:57</td>\n",
       "      <td>urgentMatchSent</td>\n",
       "      <td>0</td>\n",
       "      <td>2</td>\n",
       "      <td>0</td>\n",
       "      <td>580.0</td>\n",
       "      <td>...</td>\n",
       "      <td>0.0</td>\n",
       "      <td>0.0</td>\n",
       "      <td>0.0</td>\n",
       "      <td>0.0</td>\n",
       "      <td>0.0</td>\n",
       "      <td>64.0</td>\n",
       "      <td>NaN</td>\n",
       "      <td>NaN</td>\n",
       "      <td>NaN</td>\n",
       "      <td>NaN</td>\n",
       "    </tr>\n",
       "    <tr>\n",
       "      <th>439896</th>\n",
       "      <td>plad_pl_s07WwKbw9RUS_yeQE-476a197c-d10f-4e60-b...</td>\n",
       "      <td>pl_s07WwKbw9RUS_yeQE-476a197c-d10f-4e60-b463-3...</td>\n",
       "      <td>p790247</td>\n",
       "      <td>2021-02-01 14:42:16</td>\n",
       "      <td>2021-02-01 14:36:04</td>\n",
       "      <td>slowMatchingSent</td>\n",
       "      <td>0</td>\n",
       "      <td>12</td>\n",
       "      <td>0</td>\n",
       "      <td>560.0</td>\n",
       "      <td>...</td>\n",
       "      <td>0.0</td>\n",
       "      <td>0.0</td>\n",
       "      <td>0.0</td>\n",
       "      <td>0.0</td>\n",
       "      <td>0.0</td>\n",
       "      <td>177.0</td>\n",
       "      <td>pl_s07WwKbw9RUS_yeQE-476a197c-d10f-4e60-b463-3...</td>\n",
       "      <td>2019-05-28 00:00:00</td>\n",
       "      <td>0.0</td>\n",
       "      <td>0.0</td>\n",
       "    </tr>\n",
       "    <tr>\n",
       "      <th>1482194</th>\n",
       "      <td>plad_pl_s0Mw57c4nPFY_k5IO-b1328974-c88f-4fb7-b...</td>\n",
       "      <td>pl_s0Mw57c4nPFY_k5IO-b1328974-c88f-4fb7-b703-1...</td>\n",
       "      <td>p227236752</td>\n",
       "      <td>2020-12-20 13:33:45</td>\n",
       "      <td>2020-12-20 13:29:49</td>\n",
       "      <td>customListSent</td>\n",
       "      <td>0</td>\n",
       "      <td>1</td>\n",
       "      <td>0</td>\n",
       "      <td>560.0</td>\n",
       "      <td>...</td>\n",
       "      <td>0.0</td>\n",
       "      <td>0.0</td>\n",
       "      <td>0.0</td>\n",
       "      <td>0.0</td>\n",
       "      <td>0.0</td>\n",
       "      <td>60.0</td>\n",
       "      <td>NaN</td>\n",
       "      <td>NaN</td>\n",
       "      <td>NaN</td>\n",
       "      <td>NaN</td>\n",
       "    </tr>\n",
       "  </tbody>\n",
       "</table>\n",
       "<p>36541 rows × 58 columns</p>\n",
       "</div>"
      ],
      "text/plain": [
       "                                           placement_ad_id  \\\n",
       "17       plad_pl_s062kkx0J0QL_j4cB-d1dabaa0-acbb-4dc1-9...   \n",
       "25       plad_pl_s01HFZJkHmIL_4BaD-19e7269b-1f1e-4281-a...   \n",
       "73       plad_pl_s0SmL39RWSVK_buQY-7a0c3a05-036b-453c-8...   \n",
       "134      plad_pl_s0cCuetHrFmd_00QZ-dd9a0882-3ea3-4362-8...   \n",
       "388      plad_pl_s063CSCZAYUm_4jbo-e89250f1-628c-4d24-a...   \n",
       "...                                                    ...   \n",
       "131170   plad_pl_s09QdFo1CltW_eAaK-3ffc5d20-ce6a-450a-a...   \n",
       "601313   plad_pl_s077WJUjMkIp_s7w9-5598db67-40bb-4e8b-b...   \n",
       "674932   plad_pl_s0htWb5YPVxk_jodF-dd134fc0-ae96-4b4c-9...   \n",
       "439896   plad_pl_s07WwKbw9RUS_yeQE-476a197c-d10f-4e60-b...   \n",
       "1482194  plad_pl_s0Mw57c4nPFY_k5IO-b1328974-c88f-4fb7-b...   \n",
       "\n",
       "                                        match_request_id_x    carer_id  \\\n",
       "17       pl_s062kkx0J0QL_j4cB-d1dabaa0-acbb-4dc1-9754-c...  p100093502   \n",
       "25       pl_s01HFZJkHmIL_4BaD-19e7269b-1f1e-4281-a4c1-2...  p100139148   \n",
       "73       pl_s0SmL39RWSVK_buQY-7a0c3a05-036b-453c-8ed6-8...  p100139148   \n",
       "134      pl_s0cCuetHrFmd_00QZ-dd9a0882-3ea3-4362-8c3c-a...  p100146905   \n",
       "388      pl_s063CSCZAYUm_4jbo-e89250f1-628c-4d24-a59b-a...  p100481747   \n",
       "...                                                    ...         ...   \n",
       "131170   pl_s09QdFo1CltW_eAaK-3ffc5d20-ce6a-450a-a6de-9...   p31255939   \n",
       "601313   pl_s077WJUjMkIp_s7w9-5598db67-40bb-4e8b-b449-b...  p200759391   \n",
       "674932   pl_s0htWb5YPVxk_jodF-dd134fc0-ae96-4b4c-922f-4...  p250890990   \n",
       "439896   pl_s07WwKbw9RUS_yeQE-476a197c-d10f-4e60-b463-3...     p790247   \n",
       "1482194  pl_s0Mw57c4nPFY_k5IO-b1328974-c88f-4fb7-b703-1...  p227236752   \n",
       "\n",
       "                     sent_at           updated_at              sms_type  \\\n",
       "17       2021-08-17 11:29:26  2021-08-17 11:28:26  initialPromotionSent   \n",
       "25       2019-12-30 11:44:46  2019-12-30 11:36:45  initialPromotionSent   \n",
       "73       2020-02-07 16:44:36  2020-02-07 16:36:02  initialPromotionSent   \n",
       "134      2021-07-02 16:17:30  2021-07-02 16:08:38  initialPromotionSent   \n",
       "388      2020-08-17 11:45:35  2020-08-17 11:28:30  initialPromotionSent   \n",
       "...                      ...                  ...                   ...   \n",
       "131170   2020-07-20 08:29:12  2020-07-20 08:16:49  initialPromotionSent   \n",
       "601313   2021-04-01 08:10:17  2021-03-31 19:45:31       urgentMatchSent   \n",
       "674932   2020-09-30 10:11:04  2020-09-30 10:05:57       urgentMatchSent   \n",
       "439896   2021-02-01 14:42:16  2021-02-01 14:36:04      slowMatchingSent   \n",
       "1482194  2020-12-20 13:33:45  2020-12-20 13:29:49        customListSent   \n",
       "\n",
       "         carer_applied_in_8hrs  lead_time  ongoing  min_provider_rate  ...  \\\n",
       "17                           1         34        1              700.0  ...   \n",
       "25                           1          7        0              550.0  ...   \n",
       "73                           1          4        1              550.0  ...   \n",
       "134                          1          5        0              600.0  ...   \n",
       "388                          1          7        1              650.0  ...   \n",
       "...                        ...        ...      ...                ...  ...   \n",
       "131170                       0         38        0              550.0  ...   \n",
       "601313                       0          2        0              560.0  ...   \n",
       "674932                       0          2        0              580.0  ...   \n",
       "439896                       0         12        0              560.0  ...   \n",
       "1482194                      0          1        0              560.0  ...   \n",
       "\n",
       "         maxDistance_100  maxDistance_400  petsExclusion_CATS  \\\n",
       "17                   0.0              0.0                 0.0   \n",
       "25                   0.0              0.0                 0.0   \n",
       "73                   0.0              0.0                 0.0   \n",
       "134                  1.0              0.0                 0.0   \n",
       "388                  0.0              1.0                 0.0   \n",
       "...                  ...              ...                 ...   \n",
       "131170               0.0              0.0                 0.0   \n",
       "601313               0.0              1.0                 0.0   \n",
       "674932               0.0              0.0                 0.0   \n",
       "439896               0.0              0.0                 0.0   \n",
       "1482194              0.0              0.0                 0.0   \n",
       "\n",
       "         petsExclusion_DOGS  recipientNumberExclusion_2CRs  distance_km  \\\n",
       "17                      0.0                            0.0         64.0   \n",
       "25                      0.0                            0.0        346.0   \n",
       "73                      0.0                            0.0          8.0   \n",
       "134                     0.0                            0.0        417.0   \n",
       "388                     0.0                            0.0        421.0   \n",
       "...                     ...                            ...          ...   \n",
       "131170                  0.0                            0.0         28.0   \n",
       "601313                  0.0                            0.0         19.0   \n",
       "674932                  0.0                            0.0         64.0   \n",
       "439896                  0.0                            0.0        177.0   \n",
       "1482194                 0.0                            0.0         60.0   \n",
       "\n",
       "                                          match_request_id  \\\n",
       "17       pl_s062kkx0J0QL_j4cB-d1dabaa0-acbb-4dc1-9754-c...   \n",
       "25       pl_s01HFZJkHmIL_4BaD-19e7269b-1f1e-4281-a4c1-2...   \n",
       "73       pl_s0SmL39RWSVK_buQY-7a0c3a05-036b-453c-8ed6-8...   \n",
       "134                                                    NaN   \n",
       "388      pl_s063CSCZAYUm_4jbo-e89250f1-628c-4d24-a59b-a...   \n",
       "...                                                    ...   \n",
       "131170   pl_s09QdFo1CltW_eAaK-3ffc5d20-ce6a-450a-a6de-9...   \n",
       "601313   pl_s077WJUjMkIp_s7w9-5598db67-40bb-4e8b-b449-b...   \n",
       "674932                                                 NaN   \n",
       "439896   pl_s07WwKbw9RUS_yeQE-476a197c-d10f-4e60-b463-3...   \n",
       "1482194                                                NaN   \n",
       "\n",
       "             start_date_time  carer_worked_in_7_days  carer_worked_in_30_days  \n",
       "17       2021-08-15 00:00:00                     1.0                      1.0  \n",
       "25       2019-12-30 00:00:00                     1.0                      1.0  \n",
       "73       2020-01-12 00:00:00                     0.0                      1.0  \n",
       "134                      NaN                     NaN                      NaN  \n",
       "388      2020-02-20 00:00:00                     0.0                      0.0  \n",
       "...                      ...                     ...                      ...  \n",
       "131170   2018-11-04 00:00:00                     0.0                      0.0  \n",
       "601313   2020-07-31 00:00:00                     0.0                      0.0  \n",
       "674932                   NaN                     NaN                      NaN  \n",
       "439896   2019-05-28 00:00:00                     0.0                      0.0  \n",
       "1482194                  NaN                     NaN                      NaN  \n",
       "\n",
       "[36541 rows x 58 columns]"
      ]
     },
     "execution_count": 59,
     "metadata": {},
     "output_type": "execute_result"
    }
   ],
   "source": [
    "target = 'carer_applied_in_8hrs'\n",
    "\n",
    "X1 = all_data.loc[all_data['carer_applied_in_8hrs']==1]\n",
    "X0 = all_data.loc[all_data['carer_applied_in_8hrs']==0].sample(frac=0.01)\n",
    "\n",
    "df = pd.concat([X1,X0], axis = 0)\n",
    "df"
   ]
  },
  {
   "cell_type": "code",
   "execution_count": 60,
   "metadata": {
    "collapsed": false,
    "pycharm": {
     "name": "#%%\n"
    }
   },
   "outputs": [
    {
     "data": {
      "text/plain": [
       "Index(['placement_ad_id', 'match_request_id_x', 'carer_id', 'sent_at',\n",
       "       'updated_at', 'sms_type', 'carer_applied_in_8hrs', 'lead_time',\n",
       "       'ongoing', 'min_provider_rate', 'one_off_payments_total',\n",
       "       'licence_needed', 'car_needed', 'moving_handling', 'dementia',\n",
       "       'mental_health_issues', 'hoist', 'parkinsons', 'stroke', 'alzheimers',\n",
       "       'stoma', 'diabetes', 'peg', 'has_wifi', 'smoking', 'has_pets',\n",
       "       'has_two_crs', 'max_cr_age', 'recipient_1_male',\n",
       "       'ethnicities_at_risk_WHITE_ALL', 'ethnicities_at_risk_MIXED_ALL',\n",
       "       'ethnicities_at_risk_BLACK_ALL', 'ethnicities_at_risk_ASIAN_ALL',\n",
       "       'ethnicities_at_risk_ARAB_ALL', 'latitude', 'longitude',\n",
       "       'match_request_id_y', 'timestamp', 'carer_logged_in_7_days',\n",
       "       'carer_logged_in_7_days_n', 'set_at', 'ethnicityExclusion_ARAB_ALL',\n",
       "       'ethnicityExclusion_ASIAN_ALL', 'ethnicityExclusion_BLACK_ALL',\n",
       "       'ethnicityExclusion_MIXED_ALL', 'ethnicityExclusion_WHITE_ALL',\n",
       "       'genderExclusion_MALE', 'maxDistance_50', 'maxDistance_100',\n",
       "       'maxDistance_400', 'petsExclusion_CATS', 'petsExclusion_DOGS',\n",
       "       'recipientNumberExclusion_2CRs', 'distance_km', 'match_request_id',\n",
       "       'start_date_time', 'carer_worked_in_7_days', 'carer_worked_in_30_days'],\n",
       "      dtype='object')"
      ]
     },
     "execution_count": 60,
     "metadata": {},
     "output_type": "execute_result"
    }
   ],
   "source": [
    "df.columns"
   ]
  },
  {
   "cell_type": "code",
   "execution_count": 85,
   "metadata": {
    "collapsed": false,
    "pycharm": {
     "name": "#%%\n"
    }
   },
   "outputs": [],
   "source": [
    "predictors = ['lead_time', 'min_provider_rate',\n",
    "       'ongoing', 'min_provider_rate', 'one_off_payments_total',\n",
    "       'licence_needed', 'car_needed', 'moving_handling', 'dementia',\n",
    "       'mental_health_issues', 'hoist', 'parkinsons', 'stroke', 'alzheimers',\n",
    "       'stoma', 'diabetes', 'peg', 'has_wifi', 'smoking', 'has_pets',\n",
    "       'has_two_crs']\n",
    "X_train, X_eval, y_train, y_eval = split_train_test(df,predictors,target, test_size=0.15)"
   ]
  },
  {
   "cell_type": "code",
   "execution_count": 86,
   "metadata": {
    "collapsed": false,
    "pycharm": {
     "name": "#%%\n"
    }
   },
   "outputs": [],
   "source": [
    "model = LogisticRegression()\n"
   ]
  },
  {
   "cell_type": "code",
   "execution_count": 87,
   "metadata": {
    "collapsed": false,
    "pycharm": {
     "name": "#%%\n"
    }
   },
   "outputs": [
    {
     "name": "stdout",
     "output_type": "stream",
     "text": [
      "Running for 1 features\n",
      "Selected features: ['one_off_payments_total']\n",
      "Fit summary: 0.5613596614794674 (0.5496311200536552 to 0.5776355675311553)\n",
      "Running for 2 features\n",
      "Selected features: ['one_off_payments_total', 'mental_health_issues']\n",
      "Fit summary: 0.6153183613130319 (0.5648395721925134 to 0.6433142472212866)\n",
      "Running for 3 features\n",
      "Selected features: ['one_off_payments_total', 'mental_health_issues', 'smoking']\n",
      "Fit summary: 0.626522563426928 (0.6115371790596865 to 0.6392724823172785)\n",
      "Running for 4 features\n",
      "Selected features: ['one_off_payments_total', 'mental_health_issues', 'peg', 'smoking']\n",
      "Fit summary: 0.6266563214043804 (0.6118706235411804 to 0.6392724823172785)\n",
      "Running for 5 features\n",
      "Selected features: ['one_off_payments_total', 'mental_health_issues', 'stoma', 'peg', 'smoking']\n",
      "Fit summary: 0.6253436063533812 (0.6082027342447482 to 0.6383689839572193)\n",
      "Running for 6 features\n",
      "Selected features: ['one_off_payments_total', 'dementia', 'mental_health_issues', 'stoma', 'peg', 'smoking']\n",
      "Fit summary: 0.6155840286060386 (0.5949027498323273 to 0.6383689839572193)\n",
      "Running for 7 features\n"
     ]
    },
    {
     "name": "stderr",
     "output_type": "stream",
     "text": [
      "/Users/bonaventurapacileo/Documents/mo/carer_targeting/venv/lib/python3.9/site-packages/sklearn/linear_model/_logistic.py:763: ConvergenceWarning: lbfgs failed to converge (status=1):\n",
      "STOP: TOTAL NO. of ITERATIONS REACHED LIMIT.\n",
      "\n",
      "Increase the number of iterations (max_iter) or scale the data as shown in:\n",
      "    https://scikit-learn.org/stable/modules/preprocessing.html\n",
      "Please also refer to the documentation for alternative solver options:\n",
      "    https://scikit-learn.org/stable/modules/linear_model.html#logistic-regression\n",
      "  n_iter_i = _check_optimize_result(\n",
      "/Users/bonaventurapacileo/Documents/mo/carer_targeting/venv/lib/python3.9/site-packages/sklearn/linear_model/_logistic.py:763: ConvergenceWarning: lbfgs failed to converge (status=1):\n",
      "STOP: TOTAL NO. of ITERATIONS REACHED LIMIT.\n",
      "\n",
      "Increase the number of iterations (max_iter) or scale the data as shown in:\n",
      "    https://scikit-learn.org/stable/modules/preprocessing.html\n",
      "Please also refer to the documentation for alternative solver options:\n",
      "    https://scikit-learn.org/stable/modules/linear_model.html#logistic-regression\n",
      "  n_iter_i = _check_optimize_result(\n",
      "/Users/bonaventurapacileo/Documents/mo/carer_targeting/venv/lib/python3.9/site-packages/sklearn/linear_model/_logistic.py:763: ConvergenceWarning: lbfgs failed to converge (status=1):\n",
      "STOP: TOTAL NO. of ITERATIONS REACHED LIMIT.\n",
      "\n",
      "Increase the number of iterations (max_iter) or scale the data as shown in:\n",
      "    https://scikit-learn.org/stable/modules/preprocessing.html\n",
      "Please also refer to the documentation for alternative solver options:\n",
      "    https://scikit-learn.org/stable/modules/linear_model.html#logistic-regression\n",
      "  n_iter_i = _check_optimize_result(\n",
      "/Users/bonaventurapacileo/Documents/mo/carer_targeting/venv/lib/python3.9/site-packages/sklearn/linear_model/_logistic.py:763: ConvergenceWarning: lbfgs failed to converge (status=1):\n",
      "STOP: TOTAL NO. of ITERATIONS REACHED LIMIT.\n",
      "\n",
      "Increase the number of iterations (max_iter) or scale the data as shown in:\n",
      "    https://scikit-learn.org/stable/modules/preprocessing.html\n",
      "Please also refer to the documentation for alternative solver options:\n",
      "    https://scikit-learn.org/stable/modules/linear_model.html#logistic-regression\n",
      "  n_iter_i = _check_optimize_result(\n",
      "/Users/bonaventurapacileo/Documents/mo/carer_targeting/venv/lib/python3.9/site-packages/sklearn/linear_model/_logistic.py:763: ConvergenceWarning: lbfgs failed to converge (status=1):\n",
      "STOP: TOTAL NO. of ITERATIONS REACHED LIMIT.\n",
      "\n",
      "Increase the number of iterations (max_iter) or scale the data as shown in:\n",
      "    https://scikit-learn.org/stable/modules/preprocessing.html\n",
      "Please also refer to the documentation for alternative solver options:\n",
      "    https://scikit-learn.org/stable/modules/linear_model.html#logistic-regression\n",
      "  n_iter_i = _check_optimize_result(\n",
      "/Users/bonaventurapacileo/Documents/mo/carer_targeting/venv/lib/python3.9/site-packages/sklearn/linear_model/_logistic.py:763: ConvergenceWarning: lbfgs failed to converge (status=1):\n",
      "STOP: TOTAL NO. of ITERATIONS REACHED LIMIT.\n",
      "\n",
      "Increase the number of iterations (max_iter) or scale the data as shown in:\n",
      "    https://scikit-learn.org/stable/modules/preprocessing.html\n",
      "Please also refer to the documentation for alternative solver options:\n",
      "    https://scikit-learn.org/stable/modules/linear_model.html#logistic-regression\n",
      "  n_iter_i = _check_optimize_result(\n"
     ]
    },
    {
     "name": "stdout",
     "output_type": "stream",
     "text": [
      "Selected features: ['one_off_payments_total', 'car_needed', 'dementia', 'mental_health_issues', 'stoma', 'peg', 'smoking']\n",
      "Fit summary: 0.611402977864552 (0.5865191146881288 to 0.6311889525092623)\n"
     ]
    }
   ],
   "source": [
    "n_features =8\n",
    "X = X_train\n",
    "y = np.ravel(y_train)\n",
    "\n",
    "recall_scorer = make_scorer(recall_score, greater_is_better=True)\n",
    "results = select_features(model, n_features, y, X,scoring=recall_scorer)"
   ]
  },
  {
   "cell_type": "code",
   "execution_count": 88,
   "metadata": {
    "collapsed": false,
    "pycharm": {
     "name": "#%%\n"
    }
   },
   "outputs": [],
   "source": [
    "f_predictors = list(set(sum(list(results.loc[results.cv_score == results.cv_score.max()]['features']), [])))"
   ]
  },
  {
   "cell_type": "code",
   "execution_count": 89,
   "metadata": {
    "collapsed": false,
    "pycharm": {
     "name": "#%%\n"
    }
   },
   "outputs": [
    {
     "data": {
      "text/plain": [
       "<AxesSubplot:>"
      ]
     },
     "execution_count": 89,
     "metadata": {},
     "output_type": "execute_result"
    },
    {
     "data": {
      "image/png": "[encoded data removed]",
      "text/plain": [
       "<Figure size 1800x576 with 3 Axes>"
      ]
     },
     "metadata": {},
     "output_type": "display_data"
    }
   ],
   "source": [
    "heat_list = f_predictors + [target]\n",
    "\n",
    "fig, ax = plt.subplots(1, 2, figsize=(25, 8))\n",
    "\n",
    "sns.lineplot(x=range(1, n_features), y=results['cv_score'], ax = ax[0], linewidth = 3)\n",
    "sns.heatmap(training_data[heat_list].corr(), cmap='Blues', annot=True, ax = ax[1])"
   ]
  },
  {
   "cell_type": "code",
   "execution_count": 90,
   "metadata": {
    "collapsed": false,
    "pycharm": {
     "name": "#%%\n"
    }
   },
   "outputs": [
    {
     "data": {
      "text/plain": [
       "LogisticRegression()"
      ]
     },
     "execution_count": 90,
     "metadata": {},
     "output_type": "execute_result"
    }
   ],
   "source": [
    "model.fit(X_train[f_predictors], y)\n"
   ]
  },
  {
   "cell_type": "code",
   "execution_count": 91,
   "metadata": {
    "collapsed": false,
    "pycharm": {
     "name": "#%%\n"
    }
   },
   "outputs": [
    {
     "name": "stdout",
     "output_type": "stream",
     "text": [
      "Precision is 0.5572493224932249, recall is 0.6186536291839038, accuracy is 0.5839756228714823\n"
     ]
    }
   ],
   "source": [
    "preds = model.predict(X_eval[f_predictors])\n",
    "print(f'Precision is {precision_score(y_eval,preds)}, recall is {recall_score(y_eval,preds)}, accuracy is {accuracy_score(y_eval,preds)}')"
   ]
  },
  {
   "cell_type": "markdown",
   "metadata": {
    "collapsed": false,
    "pycharm": {
     "name": "#%% md\n"
    }
   },
   "source": [
    "On a balanced sample (around 50% each applied/not applied), the model does a fair job at classifying positive examples\n",
    "correctly, showing an accuracy of 58.4% together with a recall score of 61.2% on the evaluation set (not used for FS)"
   ]
  },
  {
   "cell_type": "code",
   "execution_count": 92,
   "metadata": {
    "collapsed": false,
    "pycharm": {
     "name": "#%%\n"
    }
   },
   "outputs": [
    {
     "data": {
      "text/plain": [
       "<sklearn.metrics._plot.confusion_matrix.ConfusionMatrixDisplay at 0x143cf2100>"
      ]
     },
     "execution_count": 92,
     "metadata": {},
     "output_type": "execute_result"
    },
    {
     "data": {
      "image/png": "[encoded data removed]",
      "text/plain": [
       "<Figure size 432x288 with 2 Axes>"
      ]
     },
     "metadata": {},
     "output_type": "display_data"
    }
   ],
   "source": [
    "plot_confusion_matrix(model,X_eval[f_predictors],y_eval)"
   ]
  },
  {
   "cell_type": "markdown",
   "metadata": {
    "collapsed": false,
    "pycharm": {
     "name": "#%% md\n"
    }
   },
   "source": [
    "Feature predictive importance is line with expectations,bonuses possibly reflecting location\n"
   ]
  },
  {
   "cell_type": "code",
   "execution_count": 93,
   "metadata": {
    "collapsed": false,
    "pycharm": {
     "name": "#%%\n"
    }
   },
   "outputs": [
    {
     "name": "stderr",
     "output_type": "stream",
     "text": [
      "\n",
      "A value is trying to be set on a copy of a slice from a DataFrame.\n",
      "Try using .loc[row_indexer,col_indexer] = value instead\n",
      "\n",
      "See the caveats in the documentation: https://pandas.pydata.org/pandas-docs/stable/user_guide/indexing.html#returning-a-view-versus-a-copy\n",
      "\n",
      "A value is trying to be set on a copy of a slice from a DataFrame.\n",
      "Try using .loc[row_indexer,col_indexer] = value instead\n",
      "\n",
      "See the caveats in the documentation: https://pandas.pydata.org/pandas-docs/stable/user_guide/indexing.html#returning-a-view-versus-a-copy\n"
     ]
    },
    {
     "data": {
      "application/vnd.jupyter.widget-view+json": {
       "model_id": "4cece3fa2e5045d3a6f363edc353d072",
       "version_major": 2,
       "version_minor": 0
      },
      "text/plain": [
       "Estimating transforms:   0%|          | 0/1000 [00:00<?, ?it/s]"
      ]
     },
     "metadata": {},
     "output_type": "display_data"
    },
    {
     "name": "stderr",
     "output_type": "stream",
     "text": [
      "\n",
      "A value is trying to be set on a copy of a slice from a DataFrame.\n",
      "Try using .loc[row_indexer,col_indexer] = value instead\n",
      "\n",
      "See the caveats in the documentation: https://pandas.pydata.org/pandas-docs/stable/user_guide/indexing.html#returning-a-view-versus-a-copy\n",
      "\n",
      "A value is trying to be set on a copy of a slice from a DataFrame.\n",
      "Try using .loc[row_indexer,col_indexer] = value instead\n",
      "\n",
      "See the caveats in the documentation: https://pandas.pydata.org/pandas-docs/stable/user_guide/indexing.html#returning-a-view-versus-a-copy\n"
     ]
    },
    {
     "data": {
      "application/vnd.jupyter.widget-view+json": {
       "model_id": "1443baf3977d49fab83d688f2bbaa016",
       "version_major": 2,
       "version_minor": 0
      },
      "text/plain": [
       "Estimating transforms:   0%|          | 0/1000 [00:00<?, ?it/s]"
      ]
     },
     "metadata": {},
     "output_type": "display_data"
    },
    {
     "name": "stderr",
     "output_type": "stream",
     "text": [
      "\n",
      "A value is trying to be set on a copy of a slice from a DataFrame.\n",
      "Try using .loc[row_indexer,col_indexer] = value instead\n",
      "\n",
      "See the caveats in the documentation: https://pandas.pydata.org/pandas-docs/stable/user_guide/indexing.html#returning-a-view-versus-a-copy\n",
      "\n",
      "A value is trying to be set on a copy of a slice from a DataFrame.\n",
      "Try using .loc[row_indexer,col_indexer] = value instead\n",
      "\n",
      "See the caveats in the documentation: https://pandas.pydata.org/pandas-docs/stable/user_guide/indexing.html#returning-a-view-versus-a-copy\n"
     ]
    },
    {
     "data": {
      "application/vnd.jupyter.widget-view+json": {
       "model_id": "1fc0ab2c6ff04da3aacbf5ce1244a130",
       "version_major": 2,
       "version_minor": 0
      },
      "text/plain": [
       "Estimating transforms:   0%|          | 0/1000 [00:00<?, ?it/s]"
      ]
     },
     "metadata": {},
     "output_type": "display_data"
    },
    {
     "name": "stderr",
     "output_type": "stream",
     "text": [
      "\n",
      "A value is trying to be set on a copy of a slice from a DataFrame.\n",
      "Try using .loc[row_indexer,col_indexer] = value instead\n",
      "\n",
      "See the caveats in the documentation: https://pandas.pydata.org/pandas-docs/stable/user_guide/indexing.html#returning-a-view-versus-a-copy\n",
      "\n",
      "A value is trying to be set on a copy of a slice from a DataFrame.\n",
      "Try using .loc[row_indexer,col_indexer] = value instead\n",
      "\n",
      "See the caveats in the documentation: https://pandas.pydata.org/pandas-docs/stable/user_guide/indexing.html#returning-a-view-versus-a-copy\n"
     ]
    },
    {
     "data": {
      "application/vnd.jupyter.widget-view+json": {
       "model_id": "9bd45f33b2754fb28ee6b2f03535b9f2",
       "version_major": 2,
       "version_minor": 0
      },
      "text/plain": [
       "Estimating transforms:   0%|          | 0/1000 [00:00<?, ?it/s]"
      ]
     },
     "metadata": {},
     "output_type": "display_data"
    },
    {
     "name": "stderr",
     "output_type": "stream",
     "text": [
      "\n",
      "A value is trying to be set on a copy of a slice from a DataFrame.\n",
      "Try using .loc[row_indexer,col_indexer] = value instead\n",
      "\n",
      "See the caveats in the documentation: https://pandas.pydata.org/pandas-docs/stable/user_guide/indexing.html#returning-a-view-versus-a-copy\n",
      "\n",
      "A value is trying to be set on a copy of a slice from a DataFrame.\n",
      "Try using .loc[row_indexer,col_indexer] = value instead\n",
      "\n",
      "See the caveats in the documentation: https://pandas.pydata.org/pandas-docs/stable/user_guide/indexing.html#returning-a-view-versus-a-copy\n"
     ]
    },
    {
     "data": {
      "application/vnd.jupyter.widget-view+json": {
       "model_id": "83107f035bac46f5a19a5113271442d7",
       "version_major": 2,
       "version_minor": 0
      },
      "text/plain": [
       "Estimating transforms:   0%|          | 0/1000 [00:00<?, ?it/s]"
      ]
     },
     "metadata": {},
     "output_type": "display_data"
    },
    {
     "data": {
      "image/png": "[encoded data removed]",
      "text/plain": [
       "<Figure size 1800x720 with 2 Axes>"
      ]
     },
     "metadata": {},
     "output_type": "display_data"
    }
   ],
   "source": [
    "plot_shap_metrics(model,df,predictors,target)"
   ]
  },
  {
   "cell_type": "code",
   "execution_count": 6,
   "metadata": {
    "collapsed": false,
    "pycharm": {
     "name": "#%%\n"
    }
   },
   "outputs": [],
   "source": [
    "\n",
    "data = pd.read_csv('/Users/bonaventurapacileo/Downloads/bonni_q2.sql.csv')"
   ]
  },
  {
   "cell_type": "code",
   "execution_count": 7,
   "metadata": {
    "collapsed": false,
    "pycharm": {
     "name": "#%%\n"
    }
   },
   "outputs": [
    {
     "data": {
      "text/html": [
       "<div>\n",
       "<style scoped>\n",
       "    .dataframe tbody tr th:only-of-type {\n",
       "        vertical-align: middle;\n",
       "    }\n",
       "\n",
       "    .dataframe tbody tr th {\n",
       "        vertical-align: top;\n",
       "    }\n",
       "\n",
       "    .dataframe thead th {\n",
       "        text-align: right;\n",
       "    }\n",
       "</style>\n",
       "<table border=\"1\" class=\"dataframe\">\n",
       "  <thead>\n",
       "    <tr style=\"text-align: right;\">\n",
       "      <th></th>\n",
       "      <th>carer_id</th>\n",
       "      <th>placement_ad_id</th>\n",
       "      <th>sent_at</th>\n",
       "      <th>set_at</th>\n",
       "      <th>ethnicityExclusion_ARAB_ALL</th>\n",
       "      <th>ethnicityExclusion_ASIAN_ALL</th>\n",
       "      <th>ethnicityExclusion_BLACK_ALL</th>\n",
       "      <th>ethnicityExclusion_MIXED_ALL</th>\n",
       "      <th>ethnicityExclusion_WHITE_ALL</th>\n",
       "      <th>genderExclusion_MALE</th>\n",
       "      <th>maxDistance_50</th>\n",
       "      <th>maxDistance_100</th>\n",
       "      <th>maxDistance_400</th>\n",
       "      <th>petsExclusion_CATS</th>\n",
       "      <th>petsExclusion_DOGS</th>\n",
       "      <th>recipientNumberExclusion_2CRs</th>\n",
       "    </tr>\n",
       "  </thead>\n",
       "  <tbody>\n",
       "    <tr>\n",
       "      <th>0</th>\n",
       "      <td>p100032767</td>\n",
       "      <td>plad_pl_s0DyQnvG3lBw_tnCT-b8d6476a-d89e-4952-9...</td>\n",
       "      <td>2020-09-29 14:30:28</td>\n",
       "      <td>2020-09-28 13:37:33</td>\n",
       "      <td>0</td>\n",
       "      <td>0</td>\n",
       "      <td>0</td>\n",
       "      <td>0</td>\n",
       "      <td>0</td>\n",
       "      <td>0</td>\n",
       "      <td>0</td>\n",
       "      <td>0</td>\n",
       "      <td>1</td>\n",
       "      <td>1</td>\n",
       "      <td>1</td>\n",
       "      <td>1</td>\n",
       "    </tr>\n",
       "    <tr>\n",
       "      <th>1</th>\n",
       "      <td>p100037528</td>\n",
       "      <td>plad_pl_s03ixZ5n2boc_mNFS-7805b74d-2327-4741-a...</td>\n",
       "      <td>2020-08-20 10:59:55</td>\n",
       "      <td>2020-07-30 14:00:08</td>\n",
       "      <td>0</td>\n",
       "      <td>0</td>\n",
       "      <td>0</td>\n",
       "      <td>0</td>\n",
       "      <td>0</td>\n",
       "      <td>0</td>\n",
       "      <td>0</td>\n",
       "      <td>1</td>\n",
       "      <td>0</td>\n",
       "      <td>0</td>\n",
       "      <td>0</td>\n",
       "      <td>0</td>\n",
       "    </tr>\n",
       "    <tr>\n",
       "      <th>2</th>\n",
       "      <td>p100037528</td>\n",
       "      <td>plad_pl_s0dDY73S0c5C_jWip-1b430c7e-cc09-49ec-8...</td>\n",
       "      <td>2020-08-04 13:05:12</td>\n",
       "      <td>2020-07-30 14:00:08</td>\n",
       "      <td>0</td>\n",
       "      <td>0</td>\n",
       "      <td>0</td>\n",
       "      <td>0</td>\n",
       "      <td>0</td>\n",
       "      <td>0</td>\n",
       "      <td>0</td>\n",
       "      <td>1</td>\n",
       "      <td>0</td>\n",
       "      <td>0</td>\n",
       "      <td>0</td>\n",
       "      <td>0</td>\n",
       "    </tr>\n",
       "    <tr>\n",
       "      <th>3</th>\n",
       "      <td>p100037528</td>\n",
       "      <td>plad_pl_s0HURQfyMqyw_baqe-42e9dcc6-ec29-493e-9...</td>\n",
       "      <td>2020-08-18 15:44:45</td>\n",
       "      <td>2020-07-30 14:00:08</td>\n",
       "      <td>0</td>\n",
       "      <td>0</td>\n",
       "      <td>0</td>\n",
       "      <td>0</td>\n",
       "      <td>0</td>\n",
       "      <td>0</td>\n",
       "      <td>0</td>\n",
       "      <td>1</td>\n",
       "      <td>0</td>\n",
       "      <td>0</td>\n",
       "      <td>0</td>\n",
       "      <td>0</td>\n",
       "    </tr>\n",
       "    <tr>\n",
       "      <th>4</th>\n",
       "      <td>p100037528</td>\n",
       "      <td>plad_pl_s0hxSYNLPFdB_CmNi-d0c5f403-ff92-4354-8...</td>\n",
       "      <td>2020-07-02 13:59:48</td>\n",
       "      <td>NaN</td>\n",
       "      <td>0</td>\n",
       "      <td>0</td>\n",
       "      <td>0</td>\n",
       "      <td>0</td>\n",
       "      <td>0</td>\n",
       "      <td>0</td>\n",
       "      <td>0</td>\n",
       "      <td>0</td>\n",
       "      <td>0</td>\n",
       "      <td>0</td>\n",
       "      <td>0</td>\n",
       "      <td>0</td>\n",
       "    </tr>\n",
       "    <tr>\n",
       "      <th>...</th>\n",
       "      <td>...</td>\n",
       "      <td>...</td>\n",
       "      <td>...</td>\n",
       "      <td>...</td>\n",
       "      <td>...</td>\n",
       "      <td>...</td>\n",
       "      <td>...</td>\n",
       "      <td>...</td>\n",
       "      <td>...</td>\n",
       "      <td>...</td>\n",
       "      <td>...</td>\n",
       "      <td>...</td>\n",
       "      <td>...</td>\n",
       "      <td>...</td>\n",
       "      <td>...</td>\n",
       "      <td>...</td>\n",
       "    </tr>\n",
       "    <tr>\n",
       "      <th>49995</th>\n",
       "      <td>p166657835</td>\n",
       "      <td>plad_pl_s0rFhu0of78T_PspZ-92126d80-9103-4d3b-b...</td>\n",
       "      <td>2021-07-14 17:17:36</td>\n",
       "      <td>2021-05-22 17:17:09</td>\n",
       "      <td>0</td>\n",
       "      <td>0</td>\n",
       "      <td>0</td>\n",
       "      <td>0</td>\n",
       "      <td>0</td>\n",
       "      <td>0</td>\n",
       "      <td>0</td>\n",
       "      <td>0</td>\n",
       "      <td>1</td>\n",
       "      <td>0</td>\n",
       "      <td>0</td>\n",
       "      <td>0</td>\n",
       "    </tr>\n",
       "    <tr>\n",
       "      <th>49996</th>\n",
       "      <td>p166657835</td>\n",
       "      <td>plad_pl_s0rFhu0of78T_YpYr-a5816d16-f9ee-42a2-8...</td>\n",
       "      <td>2021-07-14 17:18:16</td>\n",
       "      <td>2021-05-22 17:17:09</td>\n",
       "      <td>0</td>\n",
       "      <td>0</td>\n",
       "      <td>0</td>\n",
       "      <td>0</td>\n",
       "      <td>0</td>\n",
       "      <td>0</td>\n",
       "      <td>0</td>\n",
       "      <td>0</td>\n",
       "      <td>1</td>\n",
       "      <td>0</td>\n",
       "      <td>0</td>\n",
       "      <td>0</td>\n",
       "    </tr>\n",
       "    <tr>\n",
       "      <th>49997</th>\n",
       "      <td>p166657835</td>\n",
       "      <td>plad_pl_s0rLW3uEkLFF_TsUg-2efedb21-e39a-4cf4-a...</td>\n",
       "      <td>2021-08-12 17:00:08</td>\n",
       "      <td>2021-05-22 17:17:09</td>\n",
       "      <td>0</td>\n",
       "      <td>0</td>\n",
       "      <td>0</td>\n",
       "      <td>0</td>\n",
       "      <td>0</td>\n",
       "      <td>0</td>\n",
       "      <td>0</td>\n",
       "      <td>0</td>\n",
       "      <td>1</td>\n",
       "      <td>0</td>\n",
       "      <td>0</td>\n",
       "      <td>0</td>\n",
       "    </tr>\n",
       "    <tr>\n",
       "      <th>49998</th>\n",
       "      <td>p166657835</td>\n",
       "      <td>plad_pl_s0sziIrL8Ouw_ltv2-5d3c0ecc-dd5a-4f63-8...</td>\n",
       "      <td>2021-03-25 14:44:44</td>\n",
       "      <td>NaN</td>\n",
       "      <td>0</td>\n",
       "      <td>0</td>\n",
       "      <td>0</td>\n",
       "      <td>0</td>\n",
       "      <td>0</td>\n",
       "      <td>0</td>\n",
       "      <td>0</td>\n",
       "      <td>0</td>\n",
       "      <td>0</td>\n",
       "      <td>0</td>\n",
       "      <td>0</td>\n",
       "      <td>0</td>\n",
       "    </tr>\n",
       "    <tr>\n",
       "      <th>49999</th>\n",
       "      <td>p166657835</td>\n",
       "      <td>plad_pl_s0tt16hsVF0y_v7vj-b52a5532-a999-466b-8...</td>\n",
       "      <td>2021-08-11 12:16:43</td>\n",
       "      <td>2021-05-22 17:17:09</td>\n",
       "      <td>0</td>\n",
       "      <td>0</td>\n",
       "      <td>0</td>\n",
       "      <td>0</td>\n",
       "      <td>0</td>\n",
       "      <td>0</td>\n",
       "      <td>0</td>\n",
       "      <td>0</td>\n",
       "      <td>1</td>\n",
       "      <td>0</td>\n",
       "      <td>0</td>\n",
       "      <td>0</td>\n",
       "    </tr>\n",
       "  </tbody>\n",
       "</table>\n",
       "<p>50000 rows × 16 columns</p>\n",
       "</div>"
      ],
      "text/plain": [
       "         carer_id                                    placement_ad_id  \\\n",
       "0      p100032767  plad_pl_s0DyQnvG3lBw_tnCT-b8d6476a-d89e-4952-9...   \n",
       "1      p100037528  plad_pl_s03ixZ5n2boc_mNFS-7805b74d-2327-4741-a...   \n",
       "2      p100037528  plad_pl_s0dDY73S0c5C_jWip-1b430c7e-cc09-49ec-8...   \n",
       "3      p100037528  plad_pl_s0HURQfyMqyw_baqe-42e9dcc6-ec29-493e-9...   \n",
       "4      p100037528  plad_pl_s0hxSYNLPFdB_CmNi-d0c5f403-ff92-4354-8...   \n",
       "...           ...                                                ...   \n",
       "49995  p166657835  plad_pl_s0rFhu0of78T_PspZ-92126d80-9103-4d3b-b...   \n",
       "49996  p166657835  plad_pl_s0rFhu0of78T_YpYr-a5816d16-f9ee-42a2-8...   \n",
       "49997  p166657835  plad_pl_s0rLW3uEkLFF_TsUg-2efedb21-e39a-4cf4-a...   \n",
       "49998  p166657835  plad_pl_s0sziIrL8Ouw_ltv2-5d3c0ecc-dd5a-4f63-8...   \n",
       "49999  p166657835  plad_pl_s0tt16hsVF0y_v7vj-b52a5532-a999-466b-8...   \n",
       "\n",
       "                   sent_at               set_at  ethnicityExclusion_ARAB_ALL  \\\n",
       "0      2020-09-29 14:30:28  2020-09-28 13:37:33                            0   \n",
       "1      2020-08-20 10:59:55  2020-07-30 14:00:08                            0   \n",
       "2      2020-08-04 13:05:12  2020-07-30 14:00:08                            0   \n",
       "3      2020-08-18 15:44:45  2020-07-30 14:00:08                            0   \n",
       "4      2020-07-02 13:59:48                  NaN                            0   \n",
       "...                    ...                  ...                          ...   \n",
       "49995  2021-07-14 17:17:36  2021-05-22 17:17:09                            0   \n",
       "49996  2021-07-14 17:18:16  2021-05-22 17:17:09                            0   \n",
       "49997  2021-08-12 17:00:08  2021-05-22 17:17:09                            0   \n",
       "49998  2021-03-25 14:44:44                  NaN                            0   \n",
       "49999  2021-08-11 12:16:43  2021-05-22 17:17:09                            0   \n",
       "\n",
       "       ethnicityExclusion_ASIAN_ALL  ethnicityExclusion_BLACK_ALL  \\\n",
       "0                                 0                             0   \n",
       "1                                 0                             0   \n",
       "2                                 0                             0   \n",
       "3                                 0                             0   \n",
       "4                                 0                             0   \n",
       "...                             ...                           ...   \n",
       "49995                             0                             0   \n",
       "49996                             0                             0   \n",
       "49997                             0                             0   \n",
       "49998                             0                             0   \n",
       "49999                             0                             0   \n",
       "\n",
       "       ethnicityExclusion_MIXED_ALL  ethnicityExclusion_WHITE_ALL  \\\n",
       "0                                 0                             0   \n",
       "1                                 0                             0   \n",
       "2                                 0                             0   \n",
       "3                                 0                             0   \n",
       "4                                 0                             0   \n",
       "...                             ...                           ...   \n",
       "49995                             0                             0   \n",
       "49996                             0                             0   \n",
       "49997                             0                             0   \n",
       "49998                             0                             0   \n",
       "49999                             0                             0   \n",
       "\n",
       "       genderExclusion_MALE  maxDistance_50  maxDistance_100  maxDistance_400  \\\n",
       "0                         0               0                0                1   \n",
       "1                         0               0                1                0   \n",
       "2                         0               0                1                0   \n",
       "3                         0               0                1                0   \n",
       "4                         0               0                0                0   \n",
       "...                     ...             ...              ...              ...   \n",
       "49995                     0               0                0                1   \n",
       "49996                     0               0                0                1   \n",
       "49997                     0               0                0                1   \n",
       "49998                     0               0                0                0   \n",
       "49999                     0               0                0                1   \n",
       "\n",
       "       petsExclusion_CATS  petsExclusion_DOGS  recipientNumberExclusion_2CRs  \n",
       "0                       1                   1                              1  \n",
       "1                       0                   0                              0  \n",
       "2                       0                   0                              0  \n",
       "3                       0                   0                              0  \n",
       "4                       0                   0                              0  \n",
       "...                   ...                 ...                            ...  \n",
       "49995                   0                   0                              0  \n",
       "49996                   0                   0                              0  \n",
       "49997                   0                   0                              0  \n",
       "49998                   0                   0                              0  \n",
       "49999                   0                   0                              0  \n",
       "\n",
       "[50000 rows x 16 columns]"
      ]
     },
     "execution_count": 7,
     "metadata": {},
     "output_type": "execute_result"
    }
   ],
   "source": [
    "data"
   ]
  }
 ],
 "metadata": {
  "kernelspec": {
   "display_name": "Python 3",
   "language": "python",
   "name": "python3"
  },
  "language_info": {
   "codemirror_mode": {
    "name": "ipython",
    "version": 2
   },
   "file_extension": ".py",
   "mimetype": "text/x-python",
   "name": "python",
   "nbconvert_exporter": "python",
   "pygments_lexer": "ipython2",
   "version": "2.7.6"
  }
 },
 "nbformat": 4,
 "nbformat_minor": 0
}