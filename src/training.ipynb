{
 "cells": [
  {
   "cell_type": "code",
   "execution_count": null,
   "outputs": [],
   "source": [
    "import pandas as pd\n",
    "import numpy as np\n",
    "import seaborn as sns\n",
    "import os\n",
    "from datetime import timedelta, date, datetime\n",
    "from sqlalchemy.types import NVARCHAR, DATE, FLOAT, VARCHAR, DATETIME\n",
    "from sklearn.linear_model import LogisticRegression\n",
    "from sklearn.metrics import make_scorer\n",
    "from sklearn.metrics import roc_auc_score, confusion_matrix, plot_roc_curve,\\\n",
    "    plot_confusion_matrix, recall_score, precision_score, accuracy_score\n",
    "\n",
    "from helpers import *\n",
    "\n",
    "data_dir = \"../data\"\n",
    "\n",
    "sns.set_style('whitegrid')\n",
    "\n"
   ],
   "metadata": {
    "collapsed": false,
    "pycharm": {
     "name": "#%%\n"
    }
   }
  },
  {
   "cell_type": "markdown",
   "source": [
    "## Feature extraction"
   ],
   "metadata": {
    "collapsed": false
   }
  },
  {
   "cell_type": "code",
   "execution_count": null,
   "outputs": [],
   "source": [
    "from sqlalchemy import create_engine\n",
    "\n",
    "import pandas as pd\n",
    "import config\n",
    "from sql_queries import *\n",
    "\n",
    "engine = create_engine(\n",
    "    f\"mysql+pymysql://{config.sql_credentials['user']}:{config.sql_credentials['password']}@{config.sql_credentials['host']}:{config.sql_credentials['port']}/{config.sql_credentials['db']}\",\n",
    "    pool_pre_ping=True)\n",
    "\n",
    "conn = engine.connect()\n",
    "#\n",
    "# print(datetime.now())\n",
    "# login_data = pd.read_sql(login_query, conn)\n",
    "# print(datetime.now())\n",
    "# dist_data = pd.read_sql(dist_query, conn)\n",
    "# print(datetime.now())\n",
    "# prefs_data = pd.read_sql(prefs_query, conn)\n",
    "# print(datetime.now())\n",
    "# training_data = pd.read_sql(training_query, conn)\n",
    "# print(datetime.now())\n",
    "# worked_data = pd.read_sql(worked_query, conn)\n",
    "# print(datetime.now())\n",
    "#\n",
    "# login_data.to_csv('../data/login_data.csv', index = False)\n",
    "# dist_data.to_csv('../data/dist_data.csv', index = False)\n",
    "# worked_data.to_csv('../data/worked_data.csv', index = False)\n",
    "# prefs_data.to_csv('../data/prefs_data_v2.csv', index = False)\n",
    "# training_data.to_csv('../data/training_data_v2.csv', index = False)\n",
    "\n",
    "\n",
    "prefs_data = pd.read_sql(prefs_query, conn)\n",
    "prefs_data.to_csv('../data/prefs_data_v2.csv', index = False)"
   ],
   "metadata": {
    "collapsed": false,
    "pycharm": {
     "name": "#%%\n"
    }
   }
  },
  {
   "cell_type": "markdown",
   "source": [
    "## Feature engineering"
   ],
   "metadata": {
    "collapsed": false
   }
  },
  {
   "cell_type": "code",
   "execution_count": null,
   "outputs": [],
   "source": [
    "login_data = pd.read_csv('../data/login_data.csv')\n",
    "dist_data = pd.read_csv('../data/dist_data.csv')\n",
    "worked_data = pd.read_csv('../data/worked_data.csv')\n",
    "prefs_data = pd.read_csv('../data/prefs_data_v2.csv')\n",
    "training_data = pd.read_csv('../data/training_data_v2.csv')\n"
   ],
   "metadata": {
    "collapsed": false,
    "pycharm": {
     "name": "#%%\n"
    }
   }
  },
  {
   "cell_type": "code",
   "execution_count": null,
   "outputs": [],
   "source": [
    "print(training_data.shape)\n",
    "all_data = training_data.merge(login_data, how='left', on = ['placement_ad_id','carer_id','sent_at'])\n",
    "print(all_data.shape)\n",
    "all_data = all_data.merge(prefs_data, how='left', on = ['placement_ad_id','carer_id','sent_at'])\n",
    "print(all_data.shape)\n",
    "all_data = all_data.merge(dist_data, how='left', on = ['placement_ad_id','carer_id','sent_at'])\n",
    "print(all_data.shape)\n",
    "all_data = all_data.merge(worked_data, how='left', on = ['placement_ad_id','carer_id','sent_at'])\n",
    "print(all_data.shape)\n",
    "\n",
    "all_data.drop_duplicates(subset=['placement_ad_id','carer_id','sent_at'], inplace = True)\n",
    "print(all_data.shape)"
   ],
   "metadata": {
    "collapsed": false,
    "pycharm": {
     "name": "#%%\n"
    }
   }
  },
  {
   "cell_type": "code",
   "execution_count": null,
   "outputs": [],
   "source": [
    "all_data.columns"
   ],
   "metadata": {
    "collapsed": false,
    "pycharm": {
     "name": "#%%\n"
    }
   }
  },
  {
   "cell_type": "code",
   "execution_count": null,
   "outputs": [],
   "source": [
    "all_data.carer_age.isna().sum()"
   ],
   "metadata": {
    "collapsed": false,
    "pycharm": {
     "name": "#%%\n"
    }
   }
  },
  {
   "cell_type": "code",
   "execution_count": null,
   "outputs": [],
   "source": [
    "all_data['carer_applied_in_8hrs'].value_counts()"
   ],
   "metadata": {
    "collapsed": false,
    "pycharm": {
     "name": "#%%\n"
    }
   }
  },
  {
   "cell_type": "code",
   "execution_count": null,
   "outputs": [],
   "source": [
    "target = 'carer_applied_in_8hrs'\n",
    "\n",
    "X1 = all_data.loc[all_data['carer_applied_in_8hrs']==1]\n",
    "X0 = all_data.loc[all_data['carer_applied_in_8hrs']==0].sample(frac=0.01, random_state=1992)\n",
    "\n",
    "df = pd.concat([X1,X0], axis = 0)\n",
    "df"
   ],
   "metadata": {
    "collapsed": false,
    "pycharm": {
     "name": "#%%\n"
    }
   }
  },
  {
   "cell_type": "code",
   "execution_count": null,
   "outputs": [],
   "source": [
    "pd.get_dummies(df['sms_type'],drop_first=True)\n",
    "df.columns"
   ],
   "metadata": {
    "collapsed": false,
    "pycharm": {
     "name": "#%%\n"
    }
   }
  },
  {
   "cell_type": "markdown",
   "source": [
    "## Feature selection"
   ],
   "metadata": {
    "collapsed": false
   }
  },
  {
   "cell_type": "code",
   "execution_count": null,
   "outputs": [],
   "source": [
    "predictors = ['lead_time', 'min_provider_rate',\n",
    "       'ongoing', 'min_provider_rate', 'one_off_payments_total',\n",
    "       'licence_needed', 'car_needed', 'moving_handling', 'dementia',\n",
    "       'mental_health_issues', 'hoist', 'parkinsons', 'stroke', 'alzheimers',\n",
    "       'stoma', 'diabetes', 'peg', 'has_wifi', 'smoking', 'has_pets',\n",
    "       'has_two_crs']\n",
    "X_train, X_eval, y_train, y_eval = split_train_test(df,predictors,target, test_size=0.15)"
   ],
   "metadata": {
    "collapsed": false,
    "pycharm": {
     "name": "#%%\n"
    }
   }
  },
  {
   "cell_type": "code",
   "execution_count": null,
   "outputs": [],
   "source": [
    "model = LogisticRegression()\n"
   ],
   "metadata": {
    "collapsed": false,
    "pycharm": {
     "name": "#%%\n"
    }
   }
  },
  {
   "cell_type": "code",
   "execution_count": null,
   "outputs": [],
   "source": [
    "n_features =8\n",
    "X = X_train\n",
    "y = np.ravel(y_train)\n",
    "\n",
    "recall_scorer = make_scorer(recall_score, greater_is_better=True)\n",
    "results = select_features(model, n_features, y, X,scoring=recall_scorer)"
   ],
   "metadata": {
    "collapsed": false,
    "pycharm": {
     "name": "#%%\n"
    }
   }
  },
  {
   "cell_type": "code",
   "execution_count": null,
   "outputs": [],
   "source": [
    "f_predictors = list(set(sum(list(results.loc[results.cv_score == results.cv_score.max()]['features']), [])))"
   ],
   "metadata": {
    "collapsed": false,
    "pycharm": {
     "name": "#%%\n"
    }
   }
  },
  {
   "cell_type": "code",
   "execution_count": null,
   "outputs": [],
   "source": [
    "heat_list = f_predictors + [target]\n",
    "\n",
    "fig, ax = plt.subplots(1, 2, figsize=(25, 8))\n",
    "\n",
    "sns.lineplot(x=range(1, n_features), y=results['cv_score'], ax = ax[0], linewidth = 3)\n",
    "sns.heatmap(training_data[heat_list].corr(), cmap='Blues', annot=True, ax = ax[1])"
   ],
   "metadata": {
    "collapsed": false,
    "pycharm": {
     "name": "#%%\n"
    }
   }
  },
  {
   "cell_type": "markdown",
   "source": [
    "## Model performance"
   ],
   "metadata": {
    "collapsed": false
   }
  },
  {
   "cell_type": "markdown",
   "source": [
    "### Baseline"
   ],
   "metadata": {
    "collapsed": false
   }
  },
  {
   "cell_type": "code",
   "execution_count": null,
   "outputs": [],
   "source": [
    "model.fit(X_train[f_predictors], y)"
   ],
   "metadata": {
    "collapsed": false,
    "pycharm": {
     "name": "#%%\n"
    }
   }
  },
  {
   "cell_type": "code",
   "execution_count": null,
   "outputs": [],
   "source": [
    "preds = model.predict(X_eval[f_predictors])\n",
    "print(f'Precision is {precision_score(y_eval,preds)}, recall is {recall_score(y_eval,preds)}, accuracy is {accuracy_score(y_eval,preds)}')"
   ],
   "metadata": {
    "collapsed": false,
    "pycharm": {
     "name": "#%%\n"
    }
   }
  },
  {
   "cell_type": "markdown",
   "source": [
    "On a balanced sample (around 50% each applied/not applied), the model does a fair job at classifying positive examples\n",
    "correctly, showing an accuracy of 58.4% together with a recall score of 61.2% on the evaluation set (not used for FS)"
   ],
   "metadata": {
    "collapsed": false
   }
  },
  {
   "cell_type": "code",
   "execution_count": null,
   "outputs": [],
   "source": [
    "plot_confusion_matrix(model,X_eval[f_predictors],y_eval)"
   ],
   "metadata": {
    "collapsed": false,
    "pycharm": {
     "name": "#%%\n"
    }
   }
  },
  {
   "cell_type": "markdown",
   "source": [
    "Feature predictive importance is line with expectations,bonuses possibly reflecting location"
   ],
   "metadata": {
    "collapsed": false
   }
  },
  {
   "cell_type": "code",
   "execution_count": null,
   "outputs": [],
   "source": [
    "plot_shap_metrics(model,df,predictors,target)"
   ],
   "metadata": {
    "collapsed": false,
    "pycharm": {
     "name": "#%%\n"
    }
   }
  },
  {
   "cell_type": "markdown",
   "source": [
    "### Including soft preferences\n",
    "\n",
    "\n",
    "\n"
   ],
   "metadata": {
    "collapsed": false
   }
  }
 ],
 "metadata": {
  "kernelspec": {
   "display_name": "Python 3",
   "language": "python",
   "name": "python3"
  },
  "language_info": {
   "codemirror_mode": {
    "name": "ipython",
    "version": 2
   },
   "file_extension": ".py",
   "mimetype": "text/x-python",
   "name": "python",
   "nbconvert_exporter": "python",
   "pygments_lexer": "ipython2",
   "version": "2.7.6"
  }
 },
 "nbformat": 4,
 "nbformat_minor": 0
}